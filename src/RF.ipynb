{
 "cells": [
  {
   "cell_type": "code",
   "execution_count": 2,
   "metadata": {
    "collapsed": false
   },
   "outputs": [
    {
     "name": "stdout",
     "output_type": "stream",
     "text": [
      "<SparkContext master=local[*] appName=PySparkShell>\n"
     ]
    }
   ],
   "source": [
    "from __future__ import print_function\n",
    "print(sc)"
   ]
  },
  {
   "cell_type": "code",
   "execution_count": 14,
   "metadata": {
    "collapsed": true
   },
   "outputs": [],
   "source": [
    "CSV_PATH = \"../data/train_spark.csv\"\n",
    "APP_NAME = \"Random Forest Example\"\n",
    "SPARK_URL = \"local[*]\"\n",
    "RANDOM_SEED = 13579\n",
    "TRAINING_DATA_RATIO = 0.7\n",
    "RF_NUM_TREES = 3\n",
    "RF_MAX_DEPTH = 4\n",
    "RF_NUM_BINS = 32"
   ]
  },
  {
   "cell_type": "code",
   "execution_count": 10,
   "metadata": {
    "collapsed": false
   },
   "outputs": [
    {
     "name": "stdout",
     "output_type": "stream",
     "text": [
      "Total number of rows: 4564\n"
     ]
    }
   ],
   "source": [
    "from pyspark import SparkContext\n",
    "from pyspark.sql import SparkSession\n",
    "\n",
    "spark = SparkSession.builder \\\n",
    "    .appName(APP_NAME) \\\n",
    "    .master(SPARK_URL) \\\n",
    "    .getOrCreate()\n",
    "\n",
    "df = spark.read \\\n",
    "    .options(header = \"true\", inferschema = \"true\") \\\n",
    "    .csv(CSV_PATH)\n",
    "\n",
    "print(\"Total number of rows: %d\" % df.count())"
   ]
  },
  {
   "cell_type": "code",
   "execution_count": 11,
   "metadata": {
    "collapsed": false
   },
   "outputs": [
    {
     "name": "stdout",
     "output_type": "stream",
     "text": [
      "Number of training set rows: 3234\n",
      "Number of test set rows: 1330\n"
     ]
    }
   ],
   "source": [
    "from pyspark.mllib.linalg import Vectors\n",
    "from pyspark.mllib.regression import LabeledPoint\n",
    "\n",
    "transformed_df = df.rdd.map(lambda row: LabeledPoint(row[-1], Vectors.dense(row[0:-1])))\n",
    "\n",
    "splits = [TRAINING_DATA_RATIO, 1.0 - TRAINING_DATA_RATIO]\n",
    "training_data, test_data = transformed_df.randomSplit(splits, RANDOM_SEED)\n",
    "\n",
    "print(\"Number of training set rows: %d\" % training_data.count())\n",
    "print(\"Number of test set rows: %d\" % test_data.count())"
   ]
  },
  {
   "cell_type": "code",
   "execution_count": 17,
   "metadata": {
    "collapsed": false
   },
   "outputs": [
    {
     "name": "stdout",
     "output_type": "stream",
     "text": [
      "Time to train model: 1.942 seconds\n"
     ]
    }
   ],
   "source": [
    "from pyspark.mllib.tree import RandomForest\n",
    "from time import *\n",
    "\n",
    "start_time = time()\n",
    "\n",
    "model = RandomForest.trainRegressor(training_data, categoricalFeaturesInfo={}, \\\n",
    "    numTrees=RF_NUM_TREES, featureSubsetStrategy=\"auto\", impurity=\"variance\", \\\n",
    "    maxDepth=RF_MAX_DEPTH, maxBins=RF_NUM_BINS, seed=RANDOM_SEED)\n",
    "\n",
    "end_time = time()\n",
    "elapsed_time = end_time - start_time\n",
    "print(\"Time to train model: %.3f seconds\" % elapsed_time)"
   ]
  },
  {
   "cell_type": "code",
   "execution_count": 20,
   "metadata": {
    "collapsed": false,
    "scrolled": false
   },
   "outputs": [
    {
     "name": "stdout",
     "output_type": "stream",
     "text": [
      "Test Mean Squared Error = 0.00151845009695\n",
      "Learned regression forest model:\n",
      "TreeEnsembleModel regressor with 3 trees\n",
      "\n",
      "  Tree 0:\n",
      "    If (feature 3 <= 1.036697247706422)\n",
      "     If (feature 11 <= 110.7575)\n",
      "      If (feature 1 <= 2.0)\n",
      "       If (feature 3 <= 0.7931034482758621)\n",
      "        Predict: 0.0011395890554280245\n",
      "       Else (feature 3 > 0.7931034482758621)\n",
      "        Predict: -0.005341331557936258\n",
      "      Else (feature 1 > 2.0)\n",
      "       If (feature 0 <= 4288.0)\n",
      "        Predict: 0.003110957572336843\n",
      "       Else (feature 0 > 4288.0)\n",
      "        Predict: 0.04766924369779765\n",
      "     Else (feature 11 > 110.7575)\n",
      "      If (feature 9 <= 1.01644704E9)\n",
      "       If (feature 7 <= 20.11)\n",
      "        Predict: 0.06407683030820599\n",
      "       Else (feature 7 > 20.11)\n",
      "        Predict: 0.039259640196933177\n",
      "      Else (feature 9 > 1.01644704E9)\n",
      "       If (feature 2 <= 12.0)\n",
      "        Predict: -0.009074877910198629\n",
      "       Else (feature 2 > 12.0)\n",
      "        Predict: -0.03492497894175619\n",
      "    Else (feature 3 > 1.036697247706422)\n",
      "     If (feature 3 <= 1.9166666666666667)\n",
      "      If (feature 1 <= 26.0)\n",
      "       If (feature 12 <= 275.2104)\n",
      "        Predict: 0.006957570764610659\n",
      "       Else (feature 12 > 275.2104)\n",
      "        Predict: -0.011931610930427087\n",
      "      Else (feature 1 > 26.0)\n",
      "       If (feature 13 <= 8.274)\n",
      "        Predict: 0.05503629608885703\n",
      "       Else (feature 13 > 8.274)\n",
      "        Predict: 0.016884793662341368\n",
      "     Else (feature 3 > 1.9166666666666667)\n",
      "      If (feature 0 <= 4426.0)\n",
      "       If (feature 10 <= 2.44749612E9)\n",
      "        Predict: -0.009821601410961804\n",
      "       Else (feature 10 > 2.44749612E9)\n",
      "        Predict: -3.685857040083897E-4\n",
      "      Else (feature 0 > 4426.0)\n",
      "       If (feature 4 <= 2.879546)\n",
      "        Predict: 9.666283906282488E-4\n",
      "       Else (feature 4 > 2.879546)\n",
      "        Predict: 0.06339732226464423\n",
      "  Tree 1:\n",
      "    If (feature 2 <= 11.0)\n",
      "     If (feature 9 <= 1.01644704E9)\n",
      "      If (feature 1 <= 9.0)\n",
      "       If (feature 5 <= 0.993504)\n",
      "        Predict: 0.014894749016940656\n",
      "       Else (feature 5 > 0.993504)\n",
      "        Predict: -0.0074391650251248035\n",
      "      Else (feature 1 > 9.0)\n",
      "       If (feature 12 <= 34.914)\n",
      "        Predict: 0.10012178130711202\n",
      "       Else (feature 12 > 34.914)\n",
      "        Predict: 0.031406995802927454\n",
      "     Else (feature 9 > 1.01644704E9)\n",
      "      If (feature 4 <= 3.622718)\n",
      "       If (feature 9 <= 1.8318204E9)\n",
      "        Predict: 0.0029826879718273837\n",
      "       Else (feature 9 > 1.8318204E9)\n",
      "        Predict: -0.0023535568428983715\n",
      "      Else (feature 4 > 3.622718)\n",
      "       If (feature 13 <= 12.7175)\n",
      "        Predict: 0.003388917764818593\n",
      "       Else (feature 13 > 12.7175)\n",
      "        Predict: 0.051078933844069044\n",
      "    Else (feature 2 > 11.0)\n",
      "     If (feature 12 <= 28.3237)\n",
      "      If (feature 1 <= 4.0)\n",
      "       Predict: -0.09895833333333326\n",
      "      Else (feature 1 > 4.0)\n",
      "       If (feature 6 <= 29.38)\n",
      "        Predict: 0.001671780755381362\n",
      "       Else (feature 6 > 29.38)\n",
      "        Predict: -0.04141516799771801\n",
      "     Else (feature 12 > 28.3237)\n",
      "      If (feature 3 <= 0.96)\n",
      "       If (feature 12 <= 240.0789)\n",
      "        Predict: -0.015699925822768534\n",
      "       Else (feature 12 > 240.0789)\n",
      "        Predict: 0.16279729787178046\n",
      "      Else (feature 3 > 0.96)\n",
      "       If (feature 1 <= 30.0)\n",
      "        Predict: 0.020225723811279652\n",
      "       Else (feature 1 > 30.0)\n",
      "        Predict: 0.05220613142328727\n",
      "  Tree 2:\n",
      "    If (feature 1 <= 30.0)\n",
      "     If (feature 4 <= 14.016093)\n",
      "      If (feature 10 <= 4.8231E9)\n",
      "       If (feature 1 <= 9.0)\n",
      "        Predict: -0.003935005858651253\n",
      "       Else (feature 1 > 9.0)\n",
      "        Predict: 0.007929676755590673\n",
      "      Else (feature 10 > 4.8231E9)\n",
      "       If (feature 8 <= 3.58)\n",
      "        Predict: 0.033447380296179996\n",
      "       Else (feature 8 > 3.58)\n",
      "        Predict: 2.1642959151663352E-4\n",
      "     Else (feature 4 > 14.016093)\n",
      "      If (feature 7 <= 39.11)\n",
      "       If (feature 1 <= 28.0)\n",
      "        Predict: -0.024152554501020912\n",
      "       Else (feature 1 > 28.0)\n",
      "        Predict: 0.013633563418450245\n",
      "      Else (feature 7 > 39.11)\n",
      "       If (feature 13 <= 5.318)\n",
      "        Predict: -0.31991270820870754\n",
      "       Else (feature 13 > 5.318)\n",
      "        Predict: -0.03677681966362811\n",
      "    Else (feature 1 > 30.0)\n",
      "     If (feature 3 <= 0.7931034482758621)\n",
      "      If (feature 6 <= 15.46)\n",
      "       If (feature 10 <= 9.69642E9)\n",
      "        Predict: 0.01524631015622635\n",
      "       Else (feature 10 > 9.69642E9)\n",
      "        Predict: -0.05210434795424771\n",
      "      Else (feature 6 > 15.46)\n",
      "       If (feature 8 <= 25.99)\n",
      "        Predict: -0.08772073976534023\n",
      "       Else (feature 8 > 25.99)\n",
      "        Predict: -0.1215632737789113\n",
      "     Else (feature 3 > 0.7931034482758621)\n",
      "      If (feature 8 <= 11.35)\n",
      "       If (feature 13 <= 3.5347)\n",
      "        Predict: 0.08569632168019833\n",
      "       Else (feature 13 > 3.5347)\n",
      "        Predict: -0.08530814015337129\n",
      "      Else (feature 8 > 11.35)\n",
      "       If (feature 3 <= 1.036697247706422)\n",
      "        Predict: -0.012407442101779366\n",
      "       Else (feature 3 > 1.036697247706422)\n",
      "        Predict: 0.044384693999815795\n",
      "\n"
     ]
    }
   ],
   "source": [
    "predictions = model.predict(test_data.map(lambda x: x.features))\n",
    "labelsAndPredictions = test_data.map(lambda lp: lp.label).zip(predictions)\n",
    "testMSE = labelsAndPredictions.map(lambda lp: (lp[0] - lp[1]) * (lp[0] - lp[1])).sum() /\\\n",
    "    float(test_data.count())\n",
    "print('Test Mean Squared Error = ' + str(testMSE))\n",
    "print('Learned regression forest model:')\n",
    "print(model.toDebugString())"
   ]
  },
  {
   "cell_type": "code",
   "execution_count": null,
   "metadata": {
    "collapsed": true
   },
   "outputs": [],
   "source": []
  }
 ],
 "metadata": {
  "kernelspec": {
   "display_name": "Python 2",
   "language": "python",
   "name": "python2"
  },
  "language_info": {
   "codemirror_mode": {
    "name": "ipython",
    "version": 2
   },
   "file_extension": ".py",
   "mimetype": "text/x-python",
   "name": "python",
   "nbconvert_exporter": "python",
   "pygments_lexer": "ipython2",
   "version": "2.7.15"
  }
 },
 "nbformat": 4,
 "nbformat_minor": 2
}
