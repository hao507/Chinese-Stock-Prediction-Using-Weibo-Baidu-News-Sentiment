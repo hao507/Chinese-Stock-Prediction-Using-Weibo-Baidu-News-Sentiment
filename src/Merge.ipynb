{
 "cells": [
  {
   "cell_type": "code",
   "execution_count": 88,
   "metadata": {},
   "outputs": [],
   "source": [
    "import pandas as pd\n",
    "import datetime\n",
    "import numpy as np\n",
    "from collections import defaultdict"
   ]
  },
  {
   "cell_type": "code",
   "execution_count": 111,
   "metadata": {},
   "outputs": [],
   "source": [
    "texts = pd.read_csv('../data/final_result.txt',sep='+',index_col=0)\n",
    "texts['date'] = pd.to_datetime(texts['date'])\n",
    "texts['ticker'] = texts['ticker'].astype('str').map(lambda x: x.zfill(6))"
   ]
  },
  {
   "cell_type": "code",
   "execution_count": 112,
   "metadata": {},
   "outputs": [],
   "source": [
    "texts = texts[texts.columns[2:]]"
   ]
  },
  {
   "cell_type": "code",
   "execution_count": 38,
   "metadata": {},
   "outputs": [],
   "source": [
    "texts.loc[:,'weighted_sentiment'] = texts['sentiment']*texts['confidence']"
   ]
  },
  {
   "cell_type": "code",
   "execution_count": 39,
   "metadata": {},
   "outputs": [],
   "source": [
    "texts = texts.groupby(['ticker','date'])['sentiment','weighted_sentiment'].agg(['sum','count','mean']).reset_index()"
   ]
  },
  {
   "cell_type": "code",
   "execution_count": 40,
   "metadata": {},
   "outputs": [],
   "source": [
    "texts.columns = ['ticker','date','sentiment_sum','count','sentiment_mean','weighted_sentiment_sum','count2','weighted_sentiment_mean']"
   ]
  },
  {
   "cell_type": "code",
   "execution_count": 41,
   "metadata": {},
   "outputs": [],
   "source": [
    "texts = texts.drop('count2',1)"
   ]
  },
  {
   "cell_type": "code",
   "execution_count": 42,
   "metadata": {},
   "outputs": [
    {
     "data": {
      "text/html": [
       "<div>\n",
       "<style scoped>\n",
       "    .dataframe tbody tr th:only-of-type {\n",
       "        vertical-align: middle;\n",
       "    }\n",
       "\n",
       "    .dataframe tbody tr th {\n",
       "        vertical-align: top;\n",
       "    }\n",
       "\n",
       "    .dataframe thead th {\n",
       "        text-align: right;\n",
       "    }\n",
       "</style>\n",
       "<table border=\"1\" class=\"dataframe\">\n",
       "  <thead>\n",
       "    <tr style=\"text-align: right;\">\n",
       "      <th></th>\n",
       "      <th>ticker</th>\n",
       "      <th>date</th>\n",
       "      <th>sentiment_sum</th>\n",
       "      <th>count</th>\n",
       "      <th>sentiment_mean</th>\n",
       "      <th>weighted_sentiment_sum</th>\n",
       "      <th>weighted_sentiment_mean</th>\n",
       "    </tr>\n",
       "  </thead>\n",
       "  <tbody>\n",
       "    <tr>\n",
       "      <th>0</th>\n",
       "      <td>000036</td>\n",
       "      <td>2018-01-01</td>\n",
       "      <td>2</td>\n",
       "      <td>1</td>\n",
       "      <td>2.0</td>\n",
       "      <td>0.829606</td>\n",
       "      <td>0.829606</td>\n",
       "    </tr>\n",
       "    <tr>\n",
       "      <th>1</th>\n",
       "      <td>000036</td>\n",
       "      <td>2018-01-02</td>\n",
       "      <td>2</td>\n",
       "      <td>2</td>\n",
       "      <td>1.0</td>\n",
       "      <td>0.138345</td>\n",
       "      <td>0.069172</td>\n",
       "    </tr>\n",
       "  </tbody>\n",
       "</table>\n",
       "</div>"
      ],
      "text/plain": [
       "   ticker       date  sentiment_sum  count  sentiment_mean  \\\n",
       "0  000036 2018-01-01              2      1             2.0   \n",
       "1  000036 2018-01-02              2      2             1.0   \n",
       "\n",
       "   weighted_sentiment_sum  weighted_sentiment_mean  \n",
       "0                0.829606                 0.829606  \n",
       "1                0.138345                 0.069172  "
      ]
     },
     "execution_count": 42,
     "metadata": {},
     "output_type": "execute_result"
    }
   ],
   "source": [
    "texts.head(2)"
   ]
  },
  {
   "cell_type": "code",
   "execution_count": 175,
   "metadata": {},
   "outputs": [],
   "source": [
    "uqer = pd.read_csv('../stocks/uqer_price.csv',index_col=0)"
   ]
  },
  {
   "cell_type": "code",
   "execution_count": 176,
   "metadata": {},
   "outputs": [
    {
     "data": {
      "text/html": [
       "<div>\n",
       "<style scoped>\n",
       "    .dataframe tbody tr th:only-of-type {\n",
       "        vertical-align: middle;\n",
       "    }\n",
       "\n",
       "    .dataframe tbody tr th {\n",
       "        vertical-align: top;\n",
       "    }\n",
       "\n",
       "    .dataframe thead th {\n",
       "        text-align: right;\n",
       "    }\n",
       "</style>\n",
       "<table border=\"1\" class=\"dataframe\">\n",
       "  <thead>\n",
       "    <tr style=\"text-align: right;\">\n",
       "      <th></th>\n",
       "      <th>ticker</th>\n",
       "      <th>secShortName</th>\n",
       "      <th>tradeDate</th>\n",
       "      <th>turnoverVol</th>\n",
       "      <th>turnoverValue</th>\n",
       "    </tr>\n",
       "  </thead>\n",
       "  <tbody>\n",
       "    <tr>\n",
       "      <th>0</th>\n",
       "      <td>36</td>\n",
       "      <td>华联控股</td>\n",
       "      <td>2018-01-02</td>\n",
       "      <td>19918690</td>\n",
       "      <td>1.849531e+08</td>\n",
       "    </tr>\n",
       "    <tr>\n",
       "      <th>1</th>\n",
       "      <td>36</td>\n",
       "      <td>华联控股</td>\n",
       "      <td>2018-01-03</td>\n",
       "      <td>16962250</td>\n",
       "      <td>1.567579e+08</td>\n",
       "    </tr>\n",
       "    <tr>\n",
       "      <th>2</th>\n",
       "      <td>36</td>\n",
       "      <td>华联控股</td>\n",
       "      <td>2018-01-04</td>\n",
       "      <td>12059040</td>\n",
       "      <td>1.106352e+08</td>\n",
       "    </tr>\n",
       "    <tr>\n",
       "      <th>3</th>\n",
       "      <td>36</td>\n",
       "      <td>华联控股</td>\n",
       "      <td>2018-01-05</td>\n",
       "      <td>86175030</td>\n",
       "      <td>8.532058e+08</td>\n",
       "    </tr>\n",
       "    <tr>\n",
       "      <th>4</th>\n",
       "      <td>36</td>\n",
       "      <td>华联控股</td>\n",
       "      <td>2018-01-08</td>\n",
       "      <td>86146190</td>\n",
       "      <td>8.773429e+08</td>\n",
       "    </tr>\n",
       "  </tbody>\n",
       "</table>\n",
       "</div>"
      ],
      "text/plain": [
       "   ticker secShortName   tradeDate  turnoverVol  turnoverValue\n",
       "0      36         华联控股  2018-01-02     19918690   1.849531e+08\n",
       "1      36         华联控股  2018-01-03     16962250   1.567579e+08\n",
       "2      36         华联控股  2018-01-04     12059040   1.106352e+08\n",
       "3      36         华联控股  2018-01-05     86175030   8.532058e+08\n",
       "4      36         华联控股  2018-01-08     86146190   8.773429e+08"
      ]
     },
     "execution_count": 176,
     "metadata": {},
     "output_type": "execute_result"
    }
   ],
   "source": [
    "uqer.head()"
   ]
  },
  {
   "cell_type": "code",
   "execution_count": 44,
   "metadata": {},
   "outputs": [],
   "source": [
    "uqer['ticker'] = uqer['ticker'].astype('str').map(lambda x: x.zfill(6))\n",
    "uqer['mean_price'] = uqer['turnoverValue']/uqer['turnoverVol']\n",
    "uqer = uqer[['ticker','tradeDate','mean_price']]\n",
    "uqer = uqer.dropna()\n",
    "uqer['mean_price_change'] = uqer.groupby('ticker')['mean_price'].pct_change()\n",
    "uqer = uqer.dropna()\n",
    "uqer.loc[:,'tradeDate'] = pd.to_datetime(uqer['tradeDate']).map(lambda x: x-datetime.timedelta(days=1))"
   ]
  },
  {
   "cell_type": "code",
   "execution_count": 231,
   "metadata": {},
   "outputs": [],
   "source": [
    "uqer_other = pd.read_csv('../stocks/uqer_other.csv',index_col=0)"
   ]
  },
  {
   "cell_type": "code",
   "execution_count": 232,
   "metadata": {},
   "outputs": [],
   "source": [
    "uqer_other['ticker'] = uqer_other['ticker'] = uqer_other['ticker'].astype('str').map(lambda x: x.zfill(6))\n",
    "uqer_other['tradeDate'] = pd.to_datetime(uqer_other['tradeDate'])"
   ]
  },
  {
   "cell_type": "code",
   "execution_count": 235,
   "metadata": {},
   "outputs": [
    {
     "data": {
      "text/html": [
       "<div>\n",
       "<style scoped>\n",
       "    .dataframe tbody tr th:only-of-type {\n",
       "        vertical-align: middle;\n",
       "    }\n",
       "\n",
       "    .dataframe tbody tr th {\n",
       "        vertical-align: top;\n",
       "    }\n",
       "\n",
       "    .dataframe thead th {\n",
       "        text-align: right;\n",
       "    }\n",
       "</style>\n",
       "<table border=\"1\" class=\"dataframe\">\n",
       "  <thead>\n",
       "    <tr style=\"text-align: right;\">\n",
       "      <th></th>\n",
       "      <th>secID</th>\n",
       "      <th>ticker</th>\n",
       "      <th>secShortName</th>\n",
       "      <th>exchangeCD</th>\n",
       "      <th>tradeDate</th>\n",
       "      <th>preClosePrice</th>\n",
       "      <th>actPreClosePrice</th>\n",
       "      <th>openPrice</th>\n",
       "      <th>highestPrice</th>\n",
       "      <th>lowestPrice</th>\n",
       "      <th>...</th>\n",
       "      <th>turnoverRate</th>\n",
       "      <th>accumAdjFactor</th>\n",
       "      <th>negMarketValue</th>\n",
       "      <th>marketValue</th>\n",
       "      <th>chgPct</th>\n",
       "      <th>PE</th>\n",
       "      <th>PE1</th>\n",
       "      <th>PB</th>\n",
       "      <th>isOpen</th>\n",
       "      <th>vwap</th>\n",
       "    </tr>\n",
       "  </thead>\n",
       "  <tbody>\n",
       "    <tr>\n",
       "      <th>0</th>\n",
       "      <td>000036.XSHE</td>\n",
       "      <td>000036</td>\n",
       "      <td>华联控股</td>\n",
       "      <td>XSHE</td>\n",
       "      <td>2017-12-29</td>\n",
       "      <td>9.03</td>\n",
       "      <td>9.03</td>\n",
       "      <td>9.06</td>\n",
       "      <td>9.18</td>\n",
       "      <td>8.92</td>\n",
       "      <td>...</td>\n",
       "      <td>0.0117</td>\n",
       "      <td>0.923664</td>\n",
       "      <td>10264741008</td>\n",
       "      <td>10319048808</td>\n",
       "      <td>0.0011</td>\n",
       "      <td>5.2821</td>\n",
       "      <td>7.1595</td>\n",
       "      <td>2.5063</td>\n",
       "      <td>1</td>\n",
       "      <td>9.061</td>\n",
       "    </tr>\n",
       "    <tr>\n",
       "      <th>1</th>\n",
       "      <td>000036.XSHE</td>\n",
       "      <td>000036</td>\n",
       "      <td>华联控股</td>\n",
       "      <td>XSHE</td>\n",
       "      <td>2018-01-02</td>\n",
       "      <td>9.04</td>\n",
       "      <td>9.04</td>\n",
       "      <td>9.00</td>\n",
       "      <td>9.41</td>\n",
       "      <td>9.00</td>\n",
       "      <td>...</td>\n",
       "      <td>0.0175</td>\n",
       "      <td>0.923664</td>\n",
       "      <td>10571320662</td>\n",
       "      <td>10627250487</td>\n",
       "      <td>0.0299</td>\n",
       "      <td>5.4399</td>\n",
       "      <td>7.3733</td>\n",
       "      <td>2.5812</td>\n",
       "      <td>1</td>\n",
       "      <td>9.285</td>\n",
       "    </tr>\n",
       "    <tr>\n",
       "      <th>2</th>\n",
       "      <td>000036.XSHE</td>\n",
       "      <td>000036</td>\n",
       "      <td>华联控股</td>\n",
       "      <td>XSHE</td>\n",
       "      <td>2018-01-03</td>\n",
       "      <td>9.31</td>\n",
       "      <td>9.31</td>\n",
       "      <td>9.36</td>\n",
       "      <td>9.36</td>\n",
       "      <td>9.19</td>\n",
       "      <td>...</td>\n",
       "      <td>0.0149</td>\n",
       "      <td>0.923664</td>\n",
       "      <td>10480482246</td>\n",
       "      <td>10535931471</td>\n",
       "      <td>-0.0086</td>\n",
       "      <td>5.3932</td>\n",
       "      <td>7.3100</td>\n",
       "      <td>2.5590</td>\n",
       "      <td>1</td>\n",
       "      <td>9.242</td>\n",
       "    </tr>\n",
       "    <tr>\n",
       "      <th>3</th>\n",
       "      <td>000036.XSHE</td>\n",
       "      <td>000036</td>\n",
       "      <td>华联控股</td>\n",
       "      <td>XSHE</td>\n",
       "      <td>2018-01-04</td>\n",
       "      <td>9.23</td>\n",
       "      <td>9.23</td>\n",
       "      <td>9.24</td>\n",
       "      <td>9.26</td>\n",
       "      <td>9.12</td>\n",
       "      <td>...</td>\n",
       "      <td>0.0106</td>\n",
       "      <td>0.923664</td>\n",
       "      <td>10446417840</td>\n",
       "      <td>10501686840</td>\n",
       "      <td>-0.0033</td>\n",
       "      <td>5.3756</td>\n",
       "      <td>7.2862</td>\n",
       "      <td>2.5507</td>\n",
       "      <td>1</td>\n",
       "      <td>9.174</td>\n",
       "    </tr>\n",
       "    <tr>\n",
       "      <th>4</th>\n",
       "      <td>000036.XSHE</td>\n",
       "      <td>000036</td>\n",
       "      <td>华联控股</td>\n",
       "      <td>XSHE</td>\n",
       "      <td>2018-01-05</td>\n",
       "      <td>9.20</td>\n",
       "      <td>9.20</td>\n",
       "      <td>9.20</td>\n",
       "      <td>10.12</td>\n",
       "      <td>9.20</td>\n",
       "      <td>...</td>\n",
       "      <td>0.0759</td>\n",
       "      <td>0.923664</td>\n",
       "      <td>11275318386</td>\n",
       "      <td>11334972861</td>\n",
       "      <td>0.0793</td>\n",
       "      <td>5.8022</td>\n",
       "      <td>7.8644</td>\n",
       "      <td>2.7531</td>\n",
       "      <td>1</td>\n",
       "      <td>9.901</td>\n",
       "    </tr>\n",
       "  </tbody>\n",
       "</table>\n",
       "<p>5 rows × 24 columns</p>\n",
       "</div>"
      ],
      "text/plain": [
       "         secID  ticker secShortName exchangeCD  tradeDate  preClosePrice  \\\n",
       "0  000036.XSHE  000036         华联控股       XSHE 2017-12-29           9.03   \n",
       "1  000036.XSHE  000036         华联控股       XSHE 2018-01-02           9.04   \n",
       "2  000036.XSHE  000036         华联控股       XSHE 2018-01-03           9.31   \n",
       "3  000036.XSHE  000036         华联控股       XSHE 2018-01-04           9.23   \n",
       "4  000036.XSHE  000036         华联控股       XSHE 2018-01-05           9.20   \n",
       "\n",
       "   actPreClosePrice  openPrice  highestPrice  lowestPrice  ...    \\\n",
       "0              9.03       9.06          9.18         8.92  ...     \n",
       "1              9.04       9.00          9.41         9.00  ...     \n",
       "2              9.31       9.36          9.36         9.19  ...     \n",
       "3              9.23       9.24          9.26         9.12  ...     \n",
       "4              9.20       9.20         10.12         9.20  ...     \n",
       "\n",
       "   turnoverRate  accumAdjFactor  negMarketValue  marketValue  chgPct      PE  \\\n",
       "0        0.0117        0.923664     10264741008  10319048808  0.0011  5.2821   \n",
       "1        0.0175        0.923664     10571320662  10627250487  0.0299  5.4399   \n",
       "2        0.0149        0.923664     10480482246  10535931471 -0.0086  5.3932   \n",
       "3        0.0106        0.923664     10446417840  10501686840 -0.0033  5.3756   \n",
       "4        0.0759        0.923664     11275318386  11334972861  0.0793  5.8022   \n",
       "\n",
       "      PE1      PB  isOpen   vwap  \n",
       "0  7.1595  2.5063       1  9.061  \n",
       "1  7.3733  2.5812       1  9.285  \n",
       "2  7.3100  2.5590       1  9.242  \n",
       "3  7.2862  2.5507       1  9.174  \n",
       "4  7.8644  2.7531       1  9.901  \n",
       "\n",
       "[5 rows x 24 columns]"
      ]
     },
     "execution_count": 235,
     "metadata": {},
     "output_type": "execute_result"
    }
   ],
   "source": [
    "uqer_other.head()"
   ]
  },
  {
   "cell_type": "code",
   "execution_count": 47,
   "metadata": {},
   "outputs": [
    {
     "data": {
      "text/plain": [
       "Index(['secID', 'ticker', 'secShortName', 'exchangeCD', 'tradeDate',\n",
       "       'preClosePrice', 'actPreClosePrice', 'openPrice', 'highestPrice',\n",
       "       'lowestPrice', 'closePrice', 'turnoverVol', 'turnoverValue',\n",
       "       'dealAmount', 'turnoverRate', 'accumAdjFactor', 'negMarketValue',\n",
       "       'marketValue', 'chgPct', 'PE', 'PE1', 'PB', 'isOpen', 'vwap'],\n",
       "      dtype='object')"
      ]
     },
     "execution_count": 47,
     "metadata": {},
     "output_type": "execute_result"
    }
   ],
   "source": [
    "uqer_other.columns"
   ]
  },
  {
   "cell_type": "code",
   "execution_count": 48,
   "metadata": {},
   "outputs": [],
   "source": [
    "uqer_other = uqer_other[['ticker','tradeDate','preClosePrice','actPreClosePrice','openPrice','negMarketValue','marketValue','PE','PE1','PB']]"
   ]
  },
  {
   "cell_type": "code",
   "execution_count": 49,
   "metadata": {},
   "outputs": [],
   "source": [
    "for i in list(set(uqer_other['ticker'].tolist())):\n",
    "    uqer_other.loc[uqer_other[uqer_other['ticker']==i].index,'PE'] = [0]+uqer_other[uqer_other['ticker']==i]['PE'].tolist()[:-1]"
   ]
  },
  {
   "cell_type": "code",
   "execution_count": 50,
   "metadata": {},
   "outputs": [],
   "source": [
    "final_output = pd.merge(texts,uqer,how='inner',left_on=['ticker','date'],right_on=['ticker','tradeDate'])"
   ]
  },
  {
   "cell_type": "code",
   "execution_count": 51,
   "metadata": {},
   "outputs": [],
   "source": [
    "final_output = pd.merge(final_output,uqer_other,how='inner',left_on=['ticker','date'],right_on=['ticker','tradeDate'])"
   ]
  },
  {
   "cell_type": "code",
   "execution_count": 52,
   "metadata": {},
   "outputs": [
    {
     "data": {
      "text/html": [
       "<div>\n",
       "<style scoped>\n",
       "    .dataframe tbody tr th:only-of-type {\n",
       "        vertical-align: middle;\n",
       "    }\n",
       "\n",
       "    .dataframe tbody tr th {\n",
       "        vertical-align: top;\n",
       "    }\n",
       "\n",
       "    .dataframe thead th {\n",
       "        text-align: right;\n",
       "    }\n",
       "</style>\n",
       "<table border=\"1\" class=\"dataframe\">\n",
       "  <thead>\n",
       "    <tr style=\"text-align: right;\">\n",
       "      <th></th>\n",
       "      <th>ticker</th>\n",
       "      <th>date</th>\n",
       "      <th>sentiment_sum</th>\n",
       "      <th>count</th>\n",
       "      <th>sentiment_mean</th>\n",
       "      <th>weighted_sentiment_sum</th>\n",
       "      <th>weighted_sentiment_mean</th>\n",
       "      <th>tradeDate_x</th>\n",
       "      <th>mean_price</th>\n",
       "      <th>mean_price_change</th>\n",
       "      <th>tradeDate_y</th>\n",
       "      <th>preClosePrice</th>\n",
       "      <th>actPreClosePrice</th>\n",
       "      <th>openPrice</th>\n",
       "      <th>negMarketValue</th>\n",
       "      <th>marketValue</th>\n",
       "      <th>PE</th>\n",
       "      <th>PE1</th>\n",
       "      <th>PB</th>\n",
       "    </tr>\n",
       "  </thead>\n",
       "  <tbody>\n",
       "    <tr>\n",
       "      <th>0</th>\n",
       "      <td>000036</td>\n",
       "      <td>2018-01-02</td>\n",
       "      <td>2</td>\n",
       "      <td>2</td>\n",
       "      <td>1.0</td>\n",
       "      <td>0.138345</td>\n",
       "      <td>0.069172</td>\n",
       "      <td>2018-01-02</td>\n",
       "      <td>9.241576</td>\n",
       "      <td>-0.004720</td>\n",
       "      <td>2018-01-02</td>\n",
       "      <td>9.04</td>\n",
       "      <td>9.04</td>\n",
       "      <td>9.0</td>\n",
       "      <td>10571320662</td>\n",
       "      <td>10627250487</td>\n",
       "      <td>5.2821</td>\n",
       "      <td>7.3733</td>\n",
       "      <td>2.5812</td>\n",
       "    </tr>\n",
       "    <tr>\n",
       "      <th>1</th>\n",
       "      <td>000036</td>\n",
       "      <td>2018-01-08</td>\n",
       "      <td>0</td>\n",
       "      <td>1</td>\n",
       "      <td>0.0</td>\n",
       "      <td>0.000000</td>\n",
       "      <td>0.000000</td>\n",
       "      <td>2018-01-08</td>\n",
       "      <td>10.367031</td>\n",
       "      <td>0.017937</td>\n",
       "      <td>2018-01-08</td>\n",
       "      <td>9.93</td>\n",
       "      <td>9.93</td>\n",
       "      <td>10.0</td>\n",
       "      <td>11502414426</td>\n",
       "      <td>11563270401</td>\n",
       "      <td>5.8022</td>\n",
       "      <td>8.0228</td>\n",
       "      <td>2.8086</td>\n",
       "    </tr>\n",
       "  </tbody>\n",
       "</table>\n",
       "</div>"
      ],
      "text/plain": [
       "   ticker       date  sentiment_sum  count  sentiment_mean  \\\n",
       "0  000036 2018-01-02              2      2             1.0   \n",
       "1  000036 2018-01-08              0      1             0.0   \n",
       "\n",
       "   weighted_sentiment_sum  weighted_sentiment_mean tradeDate_x  mean_price  \\\n",
       "0                0.138345                 0.069172  2018-01-02    9.241576   \n",
       "1                0.000000                 0.000000  2018-01-08   10.367031   \n",
       "\n",
       "   mean_price_change tradeDate_y  preClosePrice  actPreClosePrice  openPrice  \\\n",
       "0          -0.004720  2018-01-02           9.04              9.04        9.0   \n",
       "1           0.017937  2018-01-08           9.93              9.93       10.0   \n",
       "\n",
       "   negMarketValue  marketValue      PE     PE1      PB  \n",
       "0     10571320662  10627250487  5.2821  7.3733  2.5812  \n",
       "1     11502414426  11563270401  5.8022  8.0228  2.8086  "
      ]
     },
     "execution_count": 52,
     "metadata": {},
     "output_type": "execute_result"
    }
   ],
   "source": [
    "final_output.head(2)"
   ]
  },
  {
   "cell_type": "code",
   "execution_count": 53,
   "metadata": {},
   "outputs": [
    {
     "data": {
      "text/plain": [
       "(4565, 19)"
      ]
     },
     "execution_count": 53,
     "metadata": {},
     "output_type": "execute_result"
    }
   ],
   "source": [
    "final_output.shape"
   ]
  },
  {
   "cell_type": "code",
   "execution_count": 20,
   "metadata": {},
   "outputs": [],
   "source": [
    "final_output.to_csv('../data/train.csv')"
   ]
  },
  {
   "cell_type": "code",
   "execution_count": null,
   "metadata": {},
   "outputs": [],
   "source": []
  },
  {
   "cell_type": "code",
   "execution_count": 57,
   "metadata": {},
   "outputs": [],
   "source": [
    "final_output = '\\n'.join(','.join(str(x) for x in y) for y in final_output.values)"
   ]
  },
  {
   "cell_type": "code",
   "execution_count": null,
   "metadata": {},
   "outputs": [],
   "source": []
  },
  {
   "cell_type": "code",
   "execution_count": null,
   "metadata": {},
   "outputs": [],
   "source": []
  }
 ],
 "metadata": {
  "kernelspec": {
   "display_name": "Python 3",
   "language": "python",
   "name": "python3"
  },
  "language_info": {
   "codemirror_mode": {
    "name": "ipython",
    "version": 3
   },
   "file_extension": ".py",
   "mimetype": "text/x-python",
   "name": "python",
   "nbconvert_exporter": "python",
   "pygments_lexer": "ipython3",
   "version": "3.6.4"
  }
 },
 "nbformat": 4,
 "nbformat_minor": 2
}
