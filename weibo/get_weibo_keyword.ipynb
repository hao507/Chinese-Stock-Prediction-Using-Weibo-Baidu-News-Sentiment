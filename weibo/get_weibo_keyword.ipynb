{
 "cells": [
  {
   "cell_type": "code",
   "execution_count": 2,
   "metadata": {},
   "outputs": [],
   "source": [
    "### Reference: https://github.com/gaussic/weibo_wordcloud\n",
    "\n",
    "import re\n",
    "import json\n",
    "import requests\n",
    "import io\n",
    "\n",
    "# based on mobile weibo\n",
    "url_template = \"https://m.weibo.cn/api/container/getIndex?type=wb&queryVal={}&containerid=100103type=2%26q%3D{}&page={}\"\n",
    "\n",
    "\n",
    "def clean_text(text):\n",
    "    \"\"\"cleaning\"\"\"\n",
    "    dr = re.compile(r'(<)[^>]+>', re.S)\n",
    "    dd = dr.sub('', text)\n",
    "    dr = re.compile(r'#[^#]+#', re.S)\n",
    "    dd = dr.sub('', dd)\n",
    "    dr = re.compile(r'@[^ ]+ ', re.S)\n",
    "    dd = dr.sub('', dd)\n",
    "    return dd.strip()\n",
    "\n",
    "\n",
    "def fetch_data(query_val, page_id):\n",
    "    \"\"\"crawl weibos based on specific keyword and page id\"\"\"\n",
    "    resp = requests.get(url_template.format(query_val, query_val, page_id))\n",
    "    card_group = json.loads(resp.text)['data']['cards'][0]['card_group']\n",
    "    print('url：', resp.url, ' --- num_weibos:', len(card_group))\n",
    "\n",
    "    mblogs = []  # save them into dict\n",
    "    for card in card_group:\n",
    "        mblog = card['mblog']\n",
    "        blog = {'mid': mblog['id'],  # weibo id\n",
    "                'time': mblog['created_at'], # creation time\n",
    "                'text': clean_text(mblog['text']),  # text\n",
    "                'userid': str(mblog['user']['id']),  # user id\n",
    "                'username': mblog['user']['screen_name'],  # username\n",
    "                'reposts_count': mblog['reposts_count'],  # retweet\n",
    "                'comments_count': mblog['comments_count'],  # comment\n",
    "                'attitudes_count': mblog['attitudes_count']  # like\n",
    "                }\n",
    "        mblogs.append(blog)\n",
    "    return mblogs\n",
    "\n",
    "\n",
    "def remove_duplication(mblogs):\n",
    "    \"\"\"drop duplicates\"\"\"\n",
    "    mid_set = {mblogs[0]['mid']}\n",
    "    new_blogs = []\n",
    "    for blog in mblogs[1:]:\n",
    "        if blog['mid'] not in mid_set:\n",
    "            new_blogs.append(blog)\n",
    "            mid_set.add(blog['mid'])\n",
    "    return new_blogs\n",
    "\n",
    "\n",
    "def fetch_pages(query_val, page_num):\n",
    "    \"\"\"crawl weibos on several pages\"\"\"\n",
    "    mblogs = []\n",
    "    for page_id in range(1 + page_num + 1):\n",
    "        try:\n",
    "            mblogs.extend(fetch_data(query_val, page_id))\n",
    "        except Exception as e:\n",
    "            print(e)\n",
    "\n",
    "    print(\"before drop duplicates：\", len(mblogs))\n",
    "    mblogs = remove_duplication(mblogs)\n",
    "    print(\"after drop duplicates：\", len(mblogs))\n",
    "\n",
    "    # 保存到 result.json 文件中\n",
    "    with io.open('result_{}.json'.format(query_val), 'w', encoding='utf-8') as fp:\n",
    "        json.dump(mblogs, fp, ensure_ascii=False, indent=4)\n",
    "        print(\"saved in result_{}.json\".format(query_val))"
   ]
  },
  {
   "cell_type": "code",
   "execution_count": 18,
   "metadata": {},
   "outputs": [
    {
     "name": "stdout",
     "output_type": "stream",
     "text": [
      "url： https://m.weibo.cn/api/container/getIndex?type=wb&queryVal=%E8%B4%B5%E5%B7%9E%E8%8C%85%E5%8F%B0&containerid=100103type=2%26q%3D%E8%B4%B5%E5%B7%9E%E8%8C%85%E5%8F%B0&page=2  --- num_weibos: 9\n"
     ]
    }
   ],
   "source": [
    "mblog = fetch_data('贵州茅台', 2)"
   ]
  },
  {
   "cell_type": "code",
   "execution_count": 15,
   "metadata": {},
   "outputs": [
    {
     "name": "stdout",
     "output_type": "stream",
     "text": [
      "url： https://m.weibo.cn/api/container/getIndex?type=wb&queryVal=%E8%B4%B5%E5%B7%9E%E8%8C%85%E5%8F%B0&containerid=100103type=2%26q%3D%E8%B4%B5%E5%B7%9E%E8%8C%85%E5%8F%B0&page=0  --- num_weibos: 10\n",
      "url： https://m.weibo.cn/api/container/getIndex?type=wb&queryVal=%E8%B4%B5%E5%B7%9E%E8%8C%85%E5%8F%B0&containerid=100103type=2%26q%3D%E8%B4%B5%E5%B7%9E%E8%8C%85%E5%8F%B0&page=1  --- num_weibos: 10\n",
      "url： https://m.weibo.cn/api/container/getIndex?type=wb&queryVal=%E8%B4%B5%E5%B7%9E%E8%8C%85%E5%8F%B0&containerid=100103type=2%26q%3D%E8%B4%B5%E5%B7%9E%E8%8C%85%E5%8F%B0&page=2  --- num_weibos: 9\n"
     ]
    }
   ],
   "source": [
    "with io.open('weibo.txt','w',encoding='utf-8') as g:\n",
    "    for i in range(3):\n",
    "        output = fetch_data('贵州茅台', i)\n",
    "        for j in output:\n",
    "            g.write(str(j))\n",
    "            g.write('\\n')"
   ]
  },
  {
   "cell_type": "code",
   "execution_count": 29,
   "metadata": {},
   "outputs": [],
   "source": [
    "ss = open('weibo.txt',encoding='utf-8').readlines()"
   ]
  },
  {
   "cell_type": "code",
   "execution_count": 36,
   "metadata": {},
   "outputs": [],
   "source": [
    "import ast"
   ]
  },
  {
   "cell_type": "code",
   "execution_count": 37,
   "metadata": {},
   "outputs": [
    {
     "data": {
      "text/plain": [
       "{'attitudes_count': 0,\n",
       " 'comments_count': 0,\n",
       " 'mid': '4260435894927014',\n",
       " 'reposts_count': 0,\n",
       " 'text': '20180711/吕老板最辉煌的时代。2012年报。拿下500多万股的贵州茅台。有本事的人。永远有本事。回头再看看当初。现在吕老板掌管中粮集团了。/ \\u200b',\n",
       " 'time': '5分钟前',\n",
       " 'userid': '1929492224',\n",
       " 'username': '小黑资产管理'}"
      ]
     },
     "execution_count": 37,
     "metadata": {},
     "output_type": "execute_result"
    }
   ],
   "source": [
    "ast.literal_eval(ss[0].strip())"
   ]
  },
  {
   "cell_type": "code",
   "execution_count": 38,
   "metadata": {},
   "outputs": [
    {
     "name": "stdout",
     "output_type": "stream",
     "text": [
      "url： https://m.weibo.cn/api/container/getIndex?type=wb&queryVal=%E8%B4%B5%E5%B7%9E%E8%8C%85%E5%8F%B0&containerid=100103type=2%26q%3D%E8%B4%B5%E5%B7%9E%E8%8C%85%E5%8F%B0&page=0  --- num_weibos: 10\n",
      "{'mid': '4260435894927014', 'time': '38分钟前', 'text': '20180711/吕老板最辉煌的时代。2012年报。拿下500多万股的贵州茅台。有本事的人。永远有本事。回头再看看当初。现在吕老板掌管中粮集团了。/ \\u200b', 'userid': '1929492224', 'username': '小黑资产管理', 'reposts_count': 0, 'comments_count': 0, 'attitudes_count': 0}\n",
      "{'mid': '4260399971306418', 'time': '3小时前', 'text': '深夜重大利好：贵州茅台 天华院 河钢股份  中船科技  $宝莱特 sz300246$ $卫信康 sh603676$ $天鹅股份 sh603029$ $健民集团 sh600976$  姚晓浪的秒拍视频 \\u200b', 'userid': '2105239982', 'username': '姚晓浪', 'reposts_count': 0, 'comments_count': 0, 'attitudes_count': 0}\n",
      "{'mid': '4260393940127069', 'time': '3小时前', 'text': '大家都去做房地产了，股市主板的股王是贵州茅台，卖酒的哎，创业板的股王是温氏股份，养猪的哎。创业板本来是支持新创企业的，像美国的纳斯达克中走出来多少厉害的公司，微软、思科、亚马逊等等。中国的“纳斯达克”股王是养猪的，笑死了，也可悲极了。', 'userid': '3895390620', 'username': '-那颗颗大白菜-', 'reposts_count': 0, 'comments_count': 4, 'attitudes_count': 0}\n",
      "{'mid': '4260378542748250', 'time': '4小时前', 'text': '贵州茅台是从2016年3月开涨的，现在很多人说茅台酒供不应求，买这股是价值投资，难道2016年之前没人喝茅台，2年时间多了这么多喝酒的人？ \\u200b', 'userid': '5627561614', 'username': '食鱼鹰', 'reposts_count': 0, 'comments_count': 0, 'attitudes_count': 0}\n",
      "{'mid': '4260368194270167', 'time': '5小时前', 'text': '今日复盘：三大指数全天呈小幅震荡走势，次新、高送转概念股持续走强。$贵州茅台 sh600519$ 北向资金成交6.7亿，股价下跌0.2%，$国科微 sz300672$ 首发解禁3196.7万股，解禁市值19.1亿元。 \\u200b', 'userid': '6225967752', 'username': 'e筐馒头', 'reposts_count': 0, 'comments_count': 0, 'attitudes_count': 0}\n",
      "{'mid': '4260365468534614', 'time': '5小时前', 'text': '$贵州茅台 sh600519$蹭人气的股。一般不管发什么都会带上老大。所以就一直在热议榜下不去 \\u200b', 'userid': '1133176810', 'username': '第一甄', 'reposts_count': 0, 'comments_count': 0, 'attitudes_count': 0}\n",
      "{'mid': '4260362800884289', 'time': '5小时前', 'text': '今天一天接到了五起电话推销，一个途牛，一个光大银行，一个卖房，一个贵州茅台酒厂，还有一个理财………真的很烦', 'userid': '1896913765', 'username': '是朕的ID啊', 'reposts_count': 0, 'comments_count': 0, 'attitudes_count': 0}\n",
      "{'mid': '4260361341371191', 'time': '5小时前', 'text': '人工智能的第一龙头，遭主力+游资千万抢筹！后市成功超越贵州茅台，成A股新贵！$红宇新材 sz300345$ $阿科力 sh603722$ $宏辉果蔬 sh603336$ 欣彤分析的秒拍视频 \\u200b', 'userid': '6239688172', 'username': '欣彤分析', 'reposts_count': 0, 'comments_count': 0, 'attitudes_count': 0}\n",
      "{'mid': '4260359390754324', 'time': '5小时前', 'text': '白酒龙头股从78跌至10元，洪荒之力爆发本周200万散户迎捡钱机会！ $中国软件 sh600536$ $贵州茅台 sh600519$ $跃岭股份 sz002725$京东方Ａ sz000725[股票]# 欣彤财经的秒拍视频 \\u200b', 'userid': '6251191978', 'username': '欣彤财经', 'reposts_count': 0, 'comments_count': 0, 'attitudes_count': 0}\n",
      "{'mid': '4260353992741040', 'time': '6小时前', 'text': '大盘反弹，次新+医药+高送转，这类股后市有望成妖！ $贵州茅台 sh600519$ $沧州大化 sh600230$ $卓郎智能 sh600545$ 许楚沛分析的秒拍视频 \\u200b', 'userid': '5885024322', 'username': '许楚沛分析', 'reposts_count': 0, 'comments_count': 0, 'attitudes_count': 0}\n",
      "url： https://m.weibo.cn/api/container/getIndex?type=wb&queryVal=%E8%B4%B5%E5%B7%9E%E8%8C%85%E5%8F%B0&containerid=100103type=2%26q%3D%E8%B4%B5%E5%B7%9E%E8%8C%85%E5%8F%B0&page=1  --- num_weibos: 10\n",
      "{'mid': '4260435894927014', 'time': '38分钟前', 'text': '20180711/吕老板最辉煌的时代。2012年报。拿下500多万股的贵州茅台。有本事的人。永远有本事。回头再看看当初。现在吕老板掌管中粮集团了。/ \\u200b', 'userid': '1929492224', 'username': '小黑资产管理', 'reposts_count': 0, 'comments_count': 0, 'attitudes_count': 0}\n",
      "{'mid': '4260399971306418', 'time': '3小时前', 'text': '深夜重大利好：贵州茅台 天华院 河钢股份  中船科技  $宝莱特 sz300246$ $卫信康 sh603676$ $天鹅股份 sh603029$ $健民集团 sh600976$  姚晓浪的秒拍视频 \\u200b', 'userid': '2105239982', 'username': '姚晓浪', 'reposts_count': 0, 'comments_count': 0, 'attitudes_count': 0}\n",
      "{'mid': '4260393940127069', 'time': '3小时前', 'text': '大家都去做房地产了，股市主板的股王是贵州茅台，卖酒的哎，创业板的股王是温氏股份，养猪的哎。创业板本来是支持新创企业的，像美国的纳斯达克中走出来多少厉害的公司，微软、思科、亚马逊等等。中国的“纳斯达克”股王是养猪的，笑死了，也可悲极了。', 'userid': '3895390620', 'username': '-那颗颗大白菜-', 'reposts_count': 0, 'comments_count': 4, 'attitudes_count': 0}\n",
      "{'mid': '4260378542748250', 'time': '4小时前', 'text': '贵州茅台是从2016年3月开涨的，现在很多人说茅台酒供不应求，买这股是价值投资，难道2016年之前没人喝茅台，2年时间多了这么多喝酒的人？ \\u200b', 'userid': '5627561614', 'username': '食鱼鹰', 'reposts_count': 0, 'comments_count': 0, 'attitudes_count': 0}\n",
      "{'mid': '4260368194270167', 'time': '5小时前', 'text': '今日复盘：三大指数全天呈小幅震荡走势，次新、高送转概念股持续走强。$贵州茅台 sh600519$ 北向资金成交6.7亿，股价下跌0.2%，$国科微 sz300672$ 首发解禁3196.7万股，解禁市值19.1亿元。 \\u200b', 'userid': '6225967752', 'username': 'e筐馒头', 'reposts_count': 0, 'comments_count': 0, 'attitudes_count': 0}\n",
      "{'mid': '4260365468534614', 'time': '5小时前', 'text': '$贵州茅台 sh600519$蹭人气的股。一般不管发什么都会带上老大。所以就一直在热议榜下不去 \\u200b', 'userid': '1133176810', 'username': '第一甄', 'reposts_count': 0, 'comments_count': 0, 'attitudes_count': 0}\n",
      "{'mid': '4260362800884289', 'time': '5小时前', 'text': '今天一天接到了五起电话推销，一个途牛，一个光大银行，一个卖房，一个贵州茅台酒厂，还有一个理财………真的很烦', 'userid': '1896913765', 'username': '是朕的ID啊', 'reposts_count': 0, 'comments_count': 0, 'attitudes_count': 0}\n",
      "{'mid': '4260361341371191', 'time': '5小时前', 'text': '人工智能的第一龙头，遭主力+游资千万抢筹！后市成功超越贵州茅台，成A股新贵！$红宇新材 sz300345$ $阿科力 sh603722$ $宏辉果蔬 sh603336$ 欣彤分析的秒拍视频 \\u200b', 'userid': '6239688172', 'username': '欣彤分析', 'reposts_count': 0, 'comments_count': 0, 'attitudes_count': 0}\n",
      "{'mid': '4260359390754324', 'time': '5小时前', 'text': '白酒龙头股从78跌至10元，洪荒之力爆发本周200万散户迎捡钱机会！ $中国软件 sh600536$ $贵州茅台 sh600519$ $跃岭股份 sz002725$京东方Ａ sz000725[股票]# 欣彤财经的秒拍视频 \\u200b', 'userid': '6251191978', 'username': '欣彤财经', 'reposts_count': 0, 'comments_count': 0, 'attitudes_count': 0}\n",
      "{'mid': '4260353992741040', 'time': '6小时前', 'text': '大盘反弹，次新+医药+高送转，这类股后市有望成妖！ $贵州茅台 sh600519$ $沧州大化 sh600230$ $卓郎智能 sh600545$ 许楚沛分析的秒拍视频 \\u200b', 'userid': '5885024322', 'username': '许楚沛分析', 'reposts_count': 0, 'comments_count': 0, 'attitudes_count': 0}\n",
      "url： https://m.weibo.cn/api/container/getIndex?type=wb&queryVal=%E8%B4%B5%E5%B7%9E%E8%8C%85%E5%8F%B0&containerid=100103type=2%26q%3D%E8%B4%B5%E5%B7%9E%E8%8C%85%E5%8F%B0&page=2  --- num_weibos: 9\n",
      "{'mid': '4260352206063422', 'time': '6小时前', 'text': '【大盘迎三连阳 这个行业成指数拉动王】从三日个股资金流向来看，华夏幸福的机构资金净流入金额最高，达到6.15亿元，格力电器紧随其后，净流入5亿元。工商银行、中国银行、华友钴业、建设银行的机构资金净流入额均超过了2亿元。而中兴通讯、贵州茅台、招商银行、恒生电子、科大讯飞、碧水源和美的集团 \\u200b...全文', 'userid': '2678702233', 'username': '投资人修心', 'reposts_count': 0, 'comments_count': 0, 'attitudes_count': 0}\n",
      "{'mid': '4260351794948625', 'time': '6小时前', 'text': '5G概念第一龙头曝光，横盘2年引来百亿资金筑底，七月龙虎榜势在必得！ $中兴通讯 sz000063$  $贵州茅台 sh600519$  $七一二 sh603712$ 杨轩分析的秒拍视频 \\u200b', 'userid': '5256821640', 'username': '杨轩分析', 'reposts_count': 0, 'comments_count': 0, 'attitudes_count': 0}\n",
      "{'mid': '4260351774064060', 'time': '6小时前', 'text': '炒股炒到让别班的同学都为我操碎了心！贵州茅台，你是魔鬼吗！高层请多关注一下自家的股票好吗？（虽然我已经以这样的结果交了作业）\\n 绍兴·东浦镇 \\u200b', 'userid': '5744104595', 'username': '不知道取啥名唉', 'reposts_count': 0, 'comments_count': 0, 'attitudes_count': 0}\n",
      "{'mid': '4260350402622908', 'time': '6小时前', 'text': '人工智能的第一龙头，遭主力+游资千万抢筹！后市成功超越贵州茅台，成A股新贵！ $深深宝Ａ sz000019$ $华帝股份 sz002035$ $大连圣亚 sh600593$ 杨轩分析的秒拍视频 \\u200b', 'userid': '5256821640', 'username': '杨轩分析', 'reposts_count': 0, 'comments_count': 0, 'attitudes_count': 0}\n",
      "{'mid': '4260347743498484', 'time': '6小时前', 'text': '回复@奔波的Ta2017:若你04年35元附近买入贵州茅台持有到现在，只是每年的分红早已经把你买入时的资金都还给你了，而你持有的股份数量也没少还有可能增多(可能个别年份会有送股)，现在股价在七百多元，这就是价值投资赚企业的钱。', 'userid': '1975551511', 'username': '百岁不老股', 'reposts_count': 0, 'comments_count': 0, 'attitudes_count': 0}\n",
      "{'mid': '4260333889706656', 'time': '7小时前', 'text': '我免费围观了 的回答，问题价值 16.00 元，快来一起免费围观~ 微博问答 \\u200b', 'userid': '5926470785', 'username': '田源岭牵牛娃', 'reposts_count': 0, 'comments_count': 0, 'attitudes_count': 0}\n",
      "{'mid': '4260331972536199', 'time': '7小时前', 'text': '2018.7.10市场平均市盈率17.42,市场平均市净率1.76（数据来自涨乐财富通）。贵州茅台TTM市盈率30.94，中国平安TTM市盈率11.59。 \\u200b\\u200b\\u200b \\u200b\\u200b\\u200b\\u200b', 'userid': '6082087042', 'username': '煜烁天成', 'reposts_count': 0, 'comments_count': 0, 'attitudes_count': 0}\n",
      "{'mid': '4260331863886871', 'time': '7小时前', 'text': '贵州茅台：最“争气”股民，错误购入800手大赚，将载入史册$荣盛发展 sz002146$ $镇海股份 sh603637$ $万马科技 sz300698$ 老桥-解盘的秒拍视频 \\u200b', 'userid': '5945153132', 'username': '老桥-解盘', 'reposts_count': 0, 'comments_count': 0, 'attitudes_count': 0}\n",
      "{'mid': '4260331829896146', 'time': '7小时前', 'text': '贵州茅台：最“争气”股民，错误购入800手大赚，将载入史册$卫士通 sz002268$ $山煤国际 sh600546$ 老桥-解盘的秒拍视频 \\u200b', 'userid': '5945153132', 'username': '老桥-解盘', 'reposts_count': 0, 'comments_count': 0, 'attitudes_count': 0}\n",
      "url： https://m.weibo.cn/api/container/getIndex?type=wb&queryVal=%E8%B4%B5%E5%B7%9E%E8%8C%85%E5%8F%B0&containerid=100103type=2%26q%3D%E8%B4%B5%E5%B7%9E%E8%8C%85%E5%8F%B0&page=3  --- num_weibos: 10\n",
      "{'mid': '4260331800739143', 'time': '7小时前', 'text': '贵州茅台：最“争气”股民，错误购入800手大赚，将载入史册$西部黄金 sh601069$ $华菱钢铁 sz000932$ 老桥-解盘的秒拍视频 \\u200b', 'userid': '5945153132', 'username': '老桥-解盘', 'reposts_count': 0, 'comments_count': 0, 'attitudes_count': 0}\n",
      "{'mid': '4260331696626555', 'time': '7小时前', 'text': '发布了头条文章：《超级涨停潮震撼登场！贵州茅台+美的集团+彤程新材+格力电器》 短线牛股  $贵州茅台 sh600519$ $美的集团 sz000333$ $彤程新材 sh603650$ $格力电器 sz000651$ 超级涨停潮震撼登场！贵州茅台+美的集团+彤程新材+格力电器 \\u200b', 'userid': '6425735091', 'username': '月落大财经', 'reposts_count': 0, 'comments_count': 0, 'attitudes_count': 0}\n",
      "{'mid': '4260326733630160', 'time': '7小时前', 'text': '中国股市突发史诗级文件，消息已被证实，散户：七月翻身行情指日$海康威视 sz002415$ $贵州茅台 sh600519$ $方大炭素 sh600516$ 成旭看盘的秒拍视频 \\u200b', 'userid': '5983687678', 'username': '成旭看盘', 'reposts_count': 0, 'comments_count': 0, 'attitudes_count': 0}\n",
      "{'mid': '4260324208981005', 'time': '8小时前', 'text': '冠豪高新 贵研铂业 国药股份  贵州茅台 邬过荡邬的秒拍视频 \\u200b', 'userid': '5874048424', 'username': '邬过荡邬', 'reposts_count': 0, 'comments_count': 0, 'attitudes_count': 0}\n",
      "{'mid': '4260321180419368', 'time': '8小时前', 'text': '【酱门经典 贵州茅台酒厂集团三大新品重磅推出】7月8号晚，贵州茅台酒厂集团技术开发公司在贵阳成功举办酱门经典新品发布会，线上线下同步首发得到了业内极大的关注。发布会上，来自天南海北的酒业精英正式得见这三款【酱门经典·酱领】【酱门经典·酱帅】【酱门经典·酱相】的真面。\\u3000\\u3000本次发布会分别 \\u200b...全文', 'userid': '2085931962', 'username': '贵州综合广播', 'reposts_count': 0, 'comments_count': 0, 'attitudes_count': 0}\n",
      "{'mid': '4260320153145435', 'time': '8小时前', 'text': '发布了头条文章：《榨菜为什么总是涨？》  股票  头条文章 $中国银行 sh601988$ $士兰微 sh600460$ $贵州茅台 sh600519$ 榨菜为什么总是涨？ \\u200b', 'userid': '6391771955', 'username': '奚瑶谈股', 'reposts_count': 0, 'comments_count': 1, 'attitudes_count': 0}\n",
      "{'mid': '4260315673526127', 'time': '8小时前', 'text': '贵州茅台股份有限公司飞天茅台、大曲狗、大曲鸡、70年代、80年代三天左右可到岸，敬请等待[胜利] 石家庄·万隆国际 同真堂生活馆的秒拍视频 \\u200b', 'userid': '6538505420', 'username': '同真堂生活馆', 'reposts_count': 0, 'comments_count': 0, 'attitudes_count': 0}\n",
      "{'mid': '4260313061064491', 'time': '8小时前', 'text': '发布了头条文章：《 A股七月能否翻身：贵州茅台+风华高科+中兴通讯+三联虹普》    头条文章 $贵州茅台 sh600519$ +$风华高科 sz000636$ +$中兴通讯 sz000063$ +$三联虹普 sz300384$ A股七月能否翻身：贵州茅台+风华高科+中兴通讯+三联虹普 \\u200b', 'userid': '6357200182', 'username': '胜宇论股', 'reposts_count': 0, 'comments_count': 0, 'attitudes_count': 0}\n",
      "{'mid': '4260309851495843', 'time': '8小时前', 'text': '茅台酒股票的持仓主要来自机构，散户非常少，其中有大量高比例配资持仓，管理层非常清仓。无论茅台股价怎样折腾，出不了货是现实，想卖给散户非常难。抱团联盟一旦打破，多杀多赛跑形成踩踏就成了必然。这就是大盘的第二次隐患。如果说今年这一波杀跌是针对姚老板持仓万科A要兑现设计的，让姚老板竹篮 \\u200b...全文', 'userid': '5847953388', 'username': '浩富战法', 'reposts_count': 0, 'comments_count': 0, 'attitudes_count': 0}\n",
      "{'mid': '4260298988241511', 'time': '9小时前', 'text': '发布了头条文章：《超跌反弹牛股揭秘:天邑股份 方大炭素 贵州茅台 工商银行 》 股票   $天邑股份 sz300504$  $方大炭素 sh600516$  $贵州茅台 sh600519$  $工商银行 sh601398$ 超跌反弹牛股揭秘:天邑股份 方大炭素 贵州茅台 工商银行 \\u200b', 'userid': '5412184798', 'username': '悦诚财经', 'reposts_count': 0, 'comments_count': 0, 'attitudes_count': 0}\n"
     ]
    },
    {
     "ename": "KeyboardInterrupt",
     "evalue": "",
     "output_type": "error",
     "traceback": [
      "\u001b[1;31m---------------------------------------------------------------------------\u001b[0m",
      "\u001b[1;31mKeyboardInterrupt\u001b[0m                         Traceback (most recent call last)",
      "\u001b[1;32m<ipython-input-38-feba8f25ddeb>\u001b[0m in \u001b[0;36m<module>\u001b[1;34m()\u001b[0m\n\u001b[0;32m     57\u001b[0m             \u001b[0mprint\u001b[0m\u001b[1;33m(\u001b[0m\u001b[0me\u001b[0m\u001b[1;33m)\u001b[0m\u001b[1;33m\u001b[0m\u001b[0m\n\u001b[0;32m     58\u001b[0m \u001b[1;33m\u001b[0m\u001b[0m\n\u001b[1;32m---> 59\u001b[1;33m \u001b[0mfetch_pages\u001b[0m\u001b[1;33m(\u001b[0m\u001b[1;34m'贵州茅台'\u001b[0m\u001b[1;33m,\u001b[0m\u001b[1;36m30\u001b[0m\u001b[1;33m)\u001b[0m\u001b[1;33m\u001b[0m\u001b[0m\n\u001b[0m",
      "\u001b[1;32m<ipython-input-38-feba8f25ddeb>\u001b[0m in \u001b[0;36mfetch_pages\u001b[1;34m(query_val, page_num)\u001b[0m\n\u001b[0;32m     50\u001b[0m     \u001b[1;32mfor\u001b[0m \u001b[0mpage_id\u001b[0m \u001b[1;32min\u001b[0m \u001b[0mrange\u001b[0m\u001b[1;33m(\u001b[0m\u001b[1;36m1\u001b[0m \u001b[1;33m+\u001b[0m \u001b[0mpage_num\u001b[0m \u001b[1;33m+\u001b[0m \u001b[1;36m1\u001b[0m\u001b[1;33m)\u001b[0m\u001b[1;33m:\u001b[0m\u001b[1;33m\u001b[0m\u001b[0m\n\u001b[0;32m     51\u001b[0m         \u001b[1;32mtry\u001b[0m\u001b[1;33m:\u001b[0m\u001b[1;33m\u001b[0m\u001b[0m\n\u001b[1;32m---> 52\u001b[1;33m             \u001b[0moutput\u001b[0m \u001b[1;33m=\u001b[0m \u001b[0mfetch_data\u001b[0m\u001b[1;33m(\u001b[0m\u001b[0mquery_val\u001b[0m\u001b[1;33m,\u001b[0m \u001b[0mpage_id\u001b[0m\u001b[1;33m)\u001b[0m\u001b[1;33m\u001b[0m\u001b[0m\n\u001b[0m\u001b[0;32m     53\u001b[0m             \u001b[1;32mfor\u001b[0m \u001b[0mj\u001b[0m \u001b[1;32min\u001b[0m \u001b[0moutput\u001b[0m\u001b[1;33m:\u001b[0m\u001b[1;33m\u001b[0m\u001b[0m\n\u001b[0;32m     54\u001b[0m                 \u001b[0mprint\u001b[0m\u001b[1;33m(\u001b[0m\u001b[0mstr\u001b[0m\u001b[1;33m(\u001b[0m\u001b[0mj\u001b[0m\u001b[1;33m)\u001b[0m\u001b[1;33m)\u001b[0m\u001b[1;33m\u001b[0m\u001b[0m\n",
      "\u001b[1;32m<ipython-input-38-feba8f25ddeb>\u001b[0m in \u001b[0;36mfetch_data\u001b[1;34m(query_val, page_id)\u001b[0m\n\u001b[0;32m     25\u001b[0m \u001b[1;32mdef\u001b[0m \u001b[0mfetch_data\u001b[0m\u001b[1;33m(\u001b[0m\u001b[0mquery_val\u001b[0m\u001b[1;33m,\u001b[0m \u001b[0mpage_id\u001b[0m\u001b[1;33m)\u001b[0m\u001b[1;33m:\u001b[0m\u001b[1;33m\u001b[0m\u001b[0m\n\u001b[0;32m     26\u001b[0m     \u001b[1;34m\"\"\"crawl weibos based on specific keyword and page id\"\"\"\u001b[0m\u001b[1;33m\u001b[0m\u001b[0m\n\u001b[1;32m---> 27\u001b[1;33m     \u001b[0mresp\u001b[0m \u001b[1;33m=\u001b[0m \u001b[0mrequests\u001b[0m\u001b[1;33m.\u001b[0m\u001b[0mget\u001b[0m\u001b[1;33m(\u001b[0m\u001b[0murl_template\u001b[0m\u001b[1;33m.\u001b[0m\u001b[0mformat\u001b[0m\u001b[1;33m(\u001b[0m\u001b[0mquery_val\u001b[0m\u001b[1;33m,\u001b[0m \u001b[0mquery_val\u001b[0m\u001b[1;33m,\u001b[0m \u001b[0mpage_id\u001b[0m\u001b[1;33m)\u001b[0m\u001b[1;33m)\u001b[0m\u001b[1;33m\u001b[0m\u001b[0m\n\u001b[0m\u001b[0;32m     28\u001b[0m     \u001b[0mcard_group\u001b[0m \u001b[1;33m=\u001b[0m \u001b[0mjson\u001b[0m\u001b[1;33m.\u001b[0m\u001b[0mloads\u001b[0m\u001b[1;33m(\u001b[0m\u001b[0mresp\u001b[0m\u001b[1;33m.\u001b[0m\u001b[0mtext\u001b[0m\u001b[1;33m)\u001b[0m\u001b[1;33m[\u001b[0m\u001b[1;34m'data'\u001b[0m\u001b[1;33m]\u001b[0m\u001b[1;33m[\u001b[0m\u001b[1;34m'cards'\u001b[0m\u001b[1;33m]\u001b[0m\u001b[1;33m[\u001b[0m\u001b[1;36m0\u001b[0m\u001b[1;33m]\u001b[0m\u001b[1;33m[\u001b[0m\u001b[1;34m'card_group'\u001b[0m\u001b[1;33m]\u001b[0m\u001b[1;33m\u001b[0m\u001b[0m\n\u001b[0;32m     29\u001b[0m     \u001b[0mprint\u001b[0m\u001b[1;33m(\u001b[0m\u001b[1;34m'url：'\u001b[0m\u001b[1;33m,\u001b[0m \u001b[0mresp\u001b[0m\u001b[1;33m.\u001b[0m\u001b[0murl\u001b[0m\u001b[1;33m,\u001b[0m \u001b[1;34m' --- num_weibos:'\u001b[0m\u001b[1;33m,\u001b[0m \u001b[0mlen\u001b[0m\u001b[1;33m(\u001b[0m\u001b[0mcard_group\u001b[0m\u001b[1;33m)\u001b[0m\u001b[1;33m)\u001b[0m\u001b[1;33m\u001b[0m\u001b[0m\n",
      "\u001b[1;32m~\\Anaconda3\\lib\\site-packages\\requests\\api.py\u001b[0m in \u001b[0;36mget\u001b[1;34m(url, params, **kwargs)\u001b[0m\n\u001b[0;32m     70\u001b[0m \u001b[1;33m\u001b[0m\u001b[0m\n\u001b[0;32m     71\u001b[0m     \u001b[0mkwargs\u001b[0m\u001b[1;33m.\u001b[0m\u001b[0msetdefault\u001b[0m\u001b[1;33m(\u001b[0m\u001b[1;34m'allow_redirects'\u001b[0m\u001b[1;33m,\u001b[0m \u001b[1;32mTrue\u001b[0m\u001b[1;33m)\u001b[0m\u001b[1;33m\u001b[0m\u001b[0m\n\u001b[1;32m---> 72\u001b[1;33m     \u001b[1;32mreturn\u001b[0m \u001b[0mrequest\u001b[0m\u001b[1;33m(\u001b[0m\u001b[1;34m'get'\u001b[0m\u001b[1;33m,\u001b[0m \u001b[0murl\u001b[0m\u001b[1;33m,\u001b[0m \u001b[0mparams\u001b[0m\u001b[1;33m=\u001b[0m\u001b[0mparams\u001b[0m\u001b[1;33m,\u001b[0m \u001b[1;33m**\u001b[0m\u001b[0mkwargs\u001b[0m\u001b[1;33m)\u001b[0m\u001b[1;33m\u001b[0m\u001b[0m\n\u001b[0m\u001b[0;32m     73\u001b[0m \u001b[1;33m\u001b[0m\u001b[0m\n\u001b[0;32m     74\u001b[0m \u001b[1;33m\u001b[0m\u001b[0m\n",
      "\u001b[1;32m~\\Anaconda3\\lib\\site-packages\\requests\\api.py\u001b[0m in \u001b[0;36mrequest\u001b[1;34m(method, url, **kwargs)\u001b[0m\n\u001b[0;32m     56\u001b[0m     \u001b[1;31m# cases, and look like a memory leak in others.\u001b[0m\u001b[1;33m\u001b[0m\u001b[1;33m\u001b[0m\u001b[0m\n\u001b[0;32m     57\u001b[0m     \u001b[1;32mwith\u001b[0m \u001b[0msessions\u001b[0m\u001b[1;33m.\u001b[0m\u001b[0mSession\u001b[0m\u001b[1;33m(\u001b[0m\u001b[1;33m)\u001b[0m \u001b[1;32mas\u001b[0m \u001b[0msession\u001b[0m\u001b[1;33m:\u001b[0m\u001b[1;33m\u001b[0m\u001b[0m\n\u001b[1;32m---> 58\u001b[1;33m         \u001b[1;32mreturn\u001b[0m \u001b[0msession\u001b[0m\u001b[1;33m.\u001b[0m\u001b[0mrequest\u001b[0m\u001b[1;33m(\u001b[0m\u001b[0mmethod\u001b[0m\u001b[1;33m=\u001b[0m\u001b[0mmethod\u001b[0m\u001b[1;33m,\u001b[0m \u001b[0murl\u001b[0m\u001b[1;33m=\u001b[0m\u001b[0murl\u001b[0m\u001b[1;33m,\u001b[0m \u001b[1;33m**\u001b[0m\u001b[0mkwargs\u001b[0m\u001b[1;33m)\u001b[0m\u001b[1;33m\u001b[0m\u001b[0m\n\u001b[0m\u001b[0;32m     59\u001b[0m \u001b[1;33m\u001b[0m\u001b[0m\n\u001b[0;32m     60\u001b[0m \u001b[1;33m\u001b[0m\u001b[0m\n",
      "\u001b[1;32m~\\Anaconda3\\lib\\site-packages\\requests\\sessions.py\u001b[0m in \u001b[0;36mrequest\u001b[1;34m(self, method, url, params, data, headers, cookies, files, auth, timeout, allow_redirects, proxies, hooks, stream, verify, cert, json)\u001b[0m\n\u001b[0;32m    506\u001b[0m         }\n\u001b[0;32m    507\u001b[0m         \u001b[0msend_kwargs\u001b[0m\u001b[1;33m.\u001b[0m\u001b[0mupdate\u001b[0m\u001b[1;33m(\u001b[0m\u001b[0msettings\u001b[0m\u001b[1;33m)\u001b[0m\u001b[1;33m\u001b[0m\u001b[0m\n\u001b[1;32m--> 508\u001b[1;33m         \u001b[0mresp\u001b[0m \u001b[1;33m=\u001b[0m \u001b[0mself\u001b[0m\u001b[1;33m.\u001b[0m\u001b[0msend\u001b[0m\u001b[1;33m(\u001b[0m\u001b[0mprep\u001b[0m\u001b[1;33m,\u001b[0m \u001b[1;33m**\u001b[0m\u001b[0msend_kwargs\u001b[0m\u001b[1;33m)\u001b[0m\u001b[1;33m\u001b[0m\u001b[0m\n\u001b[0m\u001b[0;32m    509\u001b[0m \u001b[1;33m\u001b[0m\u001b[0m\n\u001b[0;32m    510\u001b[0m         \u001b[1;32mreturn\u001b[0m \u001b[0mresp\u001b[0m\u001b[1;33m\u001b[0m\u001b[0m\n",
      "\u001b[1;32m~\\Anaconda3\\lib\\site-packages\\requests\\sessions.py\u001b[0m in \u001b[0;36msend\u001b[1;34m(self, request, **kwargs)\u001b[0m\n\u001b[0;32m    656\u001b[0m \u001b[1;33m\u001b[0m\u001b[0m\n\u001b[0;32m    657\u001b[0m         \u001b[1;32mif\u001b[0m \u001b[1;32mnot\u001b[0m \u001b[0mstream\u001b[0m\u001b[1;33m:\u001b[0m\u001b[1;33m\u001b[0m\u001b[0m\n\u001b[1;32m--> 658\u001b[1;33m             \u001b[0mr\u001b[0m\u001b[1;33m.\u001b[0m\u001b[0mcontent\u001b[0m\u001b[1;33m\u001b[0m\u001b[0m\n\u001b[0m\u001b[0;32m    659\u001b[0m \u001b[1;33m\u001b[0m\u001b[0m\n\u001b[0;32m    660\u001b[0m         \u001b[1;32mreturn\u001b[0m \u001b[0mr\u001b[0m\u001b[1;33m\u001b[0m\u001b[0m\n",
      "\u001b[1;32m~\\Anaconda3\\lib\\site-packages\\requests\\models.py\u001b[0m in \u001b[0;36mcontent\u001b[1;34m(self)\u001b[0m\n\u001b[0;32m    821\u001b[0m                 \u001b[0mself\u001b[0m\u001b[1;33m.\u001b[0m\u001b[0m_content\u001b[0m \u001b[1;33m=\u001b[0m \u001b[1;32mNone\u001b[0m\u001b[1;33m\u001b[0m\u001b[0m\n\u001b[0;32m    822\u001b[0m             \u001b[1;32melse\u001b[0m\u001b[1;33m:\u001b[0m\u001b[1;33m\u001b[0m\u001b[0m\n\u001b[1;32m--> 823\u001b[1;33m                 \u001b[0mself\u001b[0m\u001b[1;33m.\u001b[0m\u001b[0m_content\u001b[0m \u001b[1;33m=\u001b[0m \u001b[0mbytes\u001b[0m\u001b[1;33m(\u001b[0m\u001b[1;33m)\u001b[0m\u001b[1;33m.\u001b[0m\u001b[0mjoin\u001b[0m\u001b[1;33m(\u001b[0m\u001b[0mself\u001b[0m\u001b[1;33m.\u001b[0m\u001b[0miter_content\u001b[0m\u001b[1;33m(\u001b[0m\u001b[0mCONTENT_CHUNK_SIZE\u001b[0m\u001b[1;33m)\u001b[0m\u001b[1;33m)\u001b[0m \u001b[1;32mor\u001b[0m \u001b[0mbytes\u001b[0m\u001b[1;33m(\u001b[0m\u001b[1;33m)\u001b[0m\u001b[1;33m\u001b[0m\u001b[0m\n\u001b[0m\u001b[0;32m    824\u001b[0m \u001b[1;33m\u001b[0m\u001b[0m\n\u001b[0;32m    825\u001b[0m         \u001b[0mself\u001b[0m\u001b[1;33m.\u001b[0m\u001b[0m_content_consumed\u001b[0m \u001b[1;33m=\u001b[0m \u001b[1;32mTrue\u001b[0m\u001b[1;33m\u001b[0m\u001b[0m\n",
      "\u001b[1;32m~\\Anaconda3\\lib\\site-packages\\requests\\models.py\u001b[0m in \u001b[0;36mgenerate\u001b[1;34m()\u001b[0m\n\u001b[0;32m    743\u001b[0m             \u001b[1;32mif\u001b[0m \u001b[0mhasattr\u001b[0m\u001b[1;33m(\u001b[0m\u001b[0mself\u001b[0m\u001b[1;33m.\u001b[0m\u001b[0mraw\u001b[0m\u001b[1;33m,\u001b[0m \u001b[1;34m'stream'\u001b[0m\u001b[1;33m)\u001b[0m\u001b[1;33m:\u001b[0m\u001b[1;33m\u001b[0m\u001b[0m\n\u001b[0;32m    744\u001b[0m                 \u001b[1;32mtry\u001b[0m\u001b[1;33m:\u001b[0m\u001b[1;33m\u001b[0m\u001b[0m\n\u001b[1;32m--> 745\u001b[1;33m                     \u001b[1;32mfor\u001b[0m \u001b[0mchunk\u001b[0m \u001b[1;32min\u001b[0m \u001b[0mself\u001b[0m\u001b[1;33m.\u001b[0m\u001b[0mraw\u001b[0m\u001b[1;33m.\u001b[0m\u001b[0mstream\u001b[0m\u001b[1;33m(\u001b[0m\u001b[0mchunk_size\u001b[0m\u001b[1;33m,\u001b[0m \u001b[0mdecode_content\u001b[0m\u001b[1;33m=\u001b[0m\u001b[1;32mTrue\u001b[0m\u001b[1;33m)\u001b[0m\u001b[1;33m:\u001b[0m\u001b[1;33m\u001b[0m\u001b[0m\n\u001b[0m\u001b[0;32m    746\u001b[0m                         \u001b[1;32myield\u001b[0m \u001b[0mchunk\u001b[0m\u001b[1;33m\u001b[0m\u001b[0m\n\u001b[0;32m    747\u001b[0m                 \u001b[1;32mexcept\u001b[0m \u001b[0mProtocolError\u001b[0m \u001b[1;32mas\u001b[0m \u001b[0me\u001b[0m\u001b[1;33m:\u001b[0m\u001b[1;33m\u001b[0m\u001b[0m\n",
      "\u001b[1;32m~\\Anaconda3\\lib\\site-packages\\urllib3\\response.py\u001b[0m in \u001b[0;36mstream\u001b[1;34m(self, amt, decode_content)\u001b[0m\n\u001b[0;32m    430\u001b[0m         \"\"\"\n\u001b[0;32m    431\u001b[0m         \u001b[1;32mif\u001b[0m \u001b[0mself\u001b[0m\u001b[1;33m.\u001b[0m\u001b[0mchunked\u001b[0m \u001b[1;32mand\u001b[0m \u001b[0mself\u001b[0m\u001b[1;33m.\u001b[0m\u001b[0msupports_chunked_reads\u001b[0m\u001b[1;33m(\u001b[0m\u001b[1;33m)\u001b[0m\u001b[1;33m:\u001b[0m\u001b[1;33m\u001b[0m\u001b[0m\n\u001b[1;32m--> 432\u001b[1;33m             \u001b[1;32mfor\u001b[0m \u001b[0mline\u001b[0m \u001b[1;32min\u001b[0m \u001b[0mself\u001b[0m\u001b[1;33m.\u001b[0m\u001b[0mread_chunked\u001b[0m\u001b[1;33m(\u001b[0m\u001b[0mamt\u001b[0m\u001b[1;33m,\u001b[0m \u001b[0mdecode_content\u001b[0m\u001b[1;33m=\u001b[0m\u001b[0mdecode_content\u001b[0m\u001b[1;33m)\u001b[0m\u001b[1;33m:\u001b[0m\u001b[1;33m\u001b[0m\u001b[0m\n\u001b[0m\u001b[0;32m    433\u001b[0m                 \u001b[1;32myield\u001b[0m \u001b[0mline\u001b[0m\u001b[1;33m\u001b[0m\u001b[0m\n\u001b[0;32m    434\u001b[0m         \u001b[1;32melse\u001b[0m\u001b[1;33m:\u001b[0m\u001b[1;33m\u001b[0m\u001b[0m\n",
      "\u001b[1;32m~\\Anaconda3\\lib\\site-packages\\urllib3\\response.py\u001b[0m in \u001b[0;36mread_chunked\u001b[1;34m(self, amt, decode_content)\u001b[0m\n\u001b[0;32m    596\u001b[0m         \u001b[1;32mwith\u001b[0m \u001b[0mself\u001b[0m\u001b[1;33m.\u001b[0m\u001b[0m_error_catcher\u001b[0m\u001b[1;33m(\u001b[0m\u001b[1;33m)\u001b[0m\u001b[1;33m:\u001b[0m\u001b[1;33m\u001b[0m\u001b[0m\n\u001b[0;32m    597\u001b[0m             \u001b[1;32mwhile\u001b[0m \u001b[1;32mTrue\u001b[0m\u001b[1;33m:\u001b[0m\u001b[1;33m\u001b[0m\u001b[0m\n\u001b[1;32m--> 598\u001b[1;33m                 \u001b[0mself\u001b[0m\u001b[1;33m.\u001b[0m\u001b[0m_update_chunk_length\u001b[0m\u001b[1;33m(\u001b[0m\u001b[1;33m)\u001b[0m\u001b[1;33m\u001b[0m\u001b[0m\n\u001b[0m\u001b[0;32m    599\u001b[0m                 \u001b[1;32mif\u001b[0m \u001b[0mself\u001b[0m\u001b[1;33m.\u001b[0m\u001b[0mchunk_left\u001b[0m \u001b[1;33m==\u001b[0m \u001b[1;36m0\u001b[0m\u001b[1;33m:\u001b[0m\u001b[1;33m\u001b[0m\u001b[0m\n\u001b[0;32m    600\u001b[0m                     \u001b[1;32mbreak\u001b[0m\u001b[1;33m\u001b[0m\u001b[0m\n",
      "\u001b[1;32m~\\Anaconda3\\lib\\site-packages\\urllib3\\response.py\u001b[0m in \u001b[0;36m_update_chunk_length\u001b[1;34m(self)\u001b[0m\n\u001b[0;32m    538\u001b[0m         \u001b[1;32mif\u001b[0m \u001b[0mself\u001b[0m\u001b[1;33m.\u001b[0m\u001b[0mchunk_left\u001b[0m \u001b[1;32mis\u001b[0m \u001b[1;32mnot\u001b[0m \u001b[1;32mNone\u001b[0m\u001b[1;33m:\u001b[0m\u001b[1;33m\u001b[0m\u001b[0m\n\u001b[0;32m    539\u001b[0m             \u001b[1;32mreturn\u001b[0m\u001b[1;33m\u001b[0m\u001b[0m\n\u001b[1;32m--> 540\u001b[1;33m         \u001b[0mline\u001b[0m \u001b[1;33m=\u001b[0m \u001b[0mself\u001b[0m\u001b[1;33m.\u001b[0m\u001b[0m_fp\u001b[0m\u001b[1;33m.\u001b[0m\u001b[0mfp\u001b[0m\u001b[1;33m.\u001b[0m\u001b[0mreadline\u001b[0m\u001b[1;33m(\u001b[0m\u001b[1;33m)\u001b[0m\u001b[1;33m\u001b[0m\u001b[0m\n\u001b[0m\u001b[0;32m    541\u001b[0m         \u001b[0mline\u001b[0m \u001b[1;33m=\u001b[0m \u001b[0mline\u001b[0m\u001b[1;33m.\u001b[0m\u001b[0msplit\u001b[0m\u001b[1;33m(\u001b[0m\u001b[1;34mb';'\u001b[0m\u001b[1;33m,\u001b[0m \u001b[1;36m1\u001b[0m\u001b[1;33m)\u001b[0m\u001b[1;33m[\u001b[0m\u001b[1;36m0\u001b[0m\u001b[1;33m]\u001b[0m\u001b[1;33m\u001b[0m\u001b[0m\n\u001b[0;32m    542\u001b[0m         \u001b[1;32mtry\u001b[0m\u001b[1;33m:\u001b[0m\u001b[1;33m\u001b[0m\u001b[0m\n",
      "\u001b[1;32m~\\Anaconda3\\lib\\socket.py\u001b[0m in \u001b[0;36mreadinto\u001b[1;34m(self, b)\u001b[0m\n\u001b[0;32m    584\u001b[0m         \u001b[1;32mwhile\u001b[0m \u001b[1;32mTrue\u001b[0m\u001b[1;33m:\u001b[0m\u001b[1;33m\u001b[0m\u001b[0m\n\u001b[0;32m    585\u001b[0m             \u001b[1;32mtry\u001b[0m\u001b[1;33m:\u001b[0m\u001b[1;33m\u001b[0m\u001b[0m\n\u001b[1;32m--> 586\u001b[1;33m                 \u001b[1;32mreturn\u001b[0m \u001b[0mself\u001b[0m\u001b[1;33m.\u001b[0m\u001b[0m_sock\u001b[0m\u001b[1;33m.\u001b[0m\u001b[0mrecv_into\u001b[0m\u001b[1;33m(\u001b[0m\u001b[0mb\u001b[0m\u001b[1;33m)\u001b[0m\u001b[1;33m\u001b[0m\u001b[0m\n\u001b[0m\u001b[0;32m    587\u001b[0m             \u001b[1;32mexcept\u001b[0m \u001b[0mtimeout\u001b[0m\u001b[1;33m:\u001b[0m\u001b[1;33m\u001b[0m\u001b[0m\n\u001b[0;32m    588\u001b[0m                 \u001b[0mself\u001b[0m\u001b[1;33m.\u001b[0m\u001b[0m_timeout_occurred\u001b[0m \u001b[1;33m=\u001b[0m \u001b[1;32mTrue\u001b[0m\u001b[1;33m\u001b[0m\u001b[0m\n",
      "\u001b[1;32m~\\Anaconda3\\lib\\site-packages\\urllib3\\contrib\\pyopenssl.py\u001b[0m in \u001b[0;36mrecv_into\u001b[1;34m(self, *args, **kwargs)\u001b[0m\n\u001b[0;32m    278\u001b[0m     \u001b[1;32mdef\u001b[0m \u001b[0mrecv_into\u001b[0m\u001b[1;33m(\u001b[0m\u001b[0mself\u001b[0m\u001b[1;33m,\u001b[0m \u001b[1;33m*\u001b[0m\u001b[0margs\u001b[0m\u001b[1;33m,\u001b[0m \u001b[1;33m**\u001b[0m\u001b[0mkwargs\u001b[0m\u001b[1;33m)\u001b[0m\u001b[1;33m:\u001b[0m\u001b[1;33m\u001b[0m\u001b[0m\n\u001b[0;32m    279\u001b[0m         \u001b[1;32mtry\u001b[0m\u001b[1;33m:\u001b[0m\u001b[1;33m\u001b[0m\u001b[0m\n\u001b[1;32m--> 280\u001b[1;33m             \u001b[1;32mreturn\u001b[0m \u001b[0mself\u001b[0m\u001b[1;33m.\u001b[0m\u001b[0mconnection\u001b[0m\u001b[1;33m.\u001b[0m\u001b[0mrecv_into\u001b[0m\u001b[1;33m(\u001b[0m\u001b[1;33m*\u001b[0m\u001b[0margs\u001b[0m\u001b[1;33m,\u001b[0m \u001b[1;33m**\u001b[0m\u001b[0mkwargs\u001b[0m\u001b[1;33m)\u001b[0m\u001b[1;33m\u001b[0m\u001b[0m\n\u001b[0m\u001b[0;32m    281\u001b[0m         \u001b[1;32mexcept\u001b[0m \u001b[0mOpenSSL\u001b[0m\u001b[1;33m.\u001b[0m\u001b[0mSSL\u001b[0m\u001b[1;33m.\u001b[0m\u001b[0mSysCallError\u001b[0m \u001b[1;32mas\u001b[0m \u001b[0me\u001b[0m\u001b[1;33m:\u001b[0m\u001b[1;33m\u001b[0m\u001b[0m\n\u001b[0;32m    282\u001b[0m             \u001b[1;32mif\u001b[0m \u001b[0mself\u001b[0m\u001b[1;33m.\u001b[0m\u001b[0msuppress_ragged_eofs\u001b[0m \u001b[1;32mand\u001b[0m \u001b[0me\u001b[0m\u001b[1;33m.\u001b[0m\u001b[0margs\u001b[0m \u001b[1;33m==\u001b[0m \u001b[1;33m(\u001b[0m\u001b[1;33m-\u001b[0m\u001b[1;36m1\u001b[0m\u001b[1;33m,\u001b[0m \u001b[1;34m'Unexpected EOF'\u001b[0m\u001b[1;33m)\u001b[0m\u001b[1;33m:\u001b[0m\u001b[1;33m\u001b[0m\u001b[0m\n",
      "\u001b[1;32m~\\Anaconda3\\lib\\site-packages\\OpenSSL\\SSL.py\u001b[0m in \u001b[0;36mrecv_into\u001b[1;34m(self, buffer, nbytes, flags)\u001b[0m\n\u001b[0;32m   1712\u001b[0m             \u001b[0mresult\u001b[0m \u001b[1;33m=\u001b[0m \u001b[0m_lib\u001b[0m\u001b[1;33m.\u001b[0m\u001b[0mSSL_peek\u001b[0m\u001b[1;33m(\u001b[0m\u001b[0mself\u001b[0m\u001b[1;33m.\u001b[0m\u001b[0m_ssl\u001b[0m\u001b[1;33m,\u001b[0m \u001b[0mbuf\u001b[0m\u001b[1;33m,\u001b[0m \u001b[0mnbytes\u001b[0m\u001b[1;33m)\u001b[0m\u001b[1;33m\u001b[0m\u001b[0m\n\u001b[0;32m   1713\u001b[0m         \u001b[1;32melse\u001b[0m\u001b[1;33m:\u001b[0m\u001b[1;33m\u001b[0m\u001b[0m\n\u001b[1;32m-> 1714\u001b[1;33m             \u001b[0mresult\u001b[0m \u001b[1;33m=\u001b[0m \u001b[0m_lib\u001b[0m\u001b[1;33m.\u001b[0m\u001b[0mSSL_read\u001b[0m\u001b[1;33m(\u001b[0m\u001b[0mself\u001b[0m\u001b[1;33m.\u001b[0m\u001b[0m_ssl\u001b[0m\u001b[1;33m,\u001b[0m \u001b[0mbuf\u001b[0m\u001b[1;33m,\u001b[0m \u001b[0mnbytes\u001b[0m\u001b[1;33m)\u001b[0m\u001b[1;33m\u001b[0m\u001b[0m\n\u001b[0m\u001b[0;32m   1715\u001b[0m         \u001b[0mself\u001b[0m\u001b[1;33m.\u001b[0m\u001b[0m_raise_ssl_error\u001b[0m\u001b[1;33m(\u001b[0m\u001b[0mself\u001b[0m\u001b[1;33m.\u001b[0m\u001b[0m_ssl\u001b[0m\u001b[1;33m,\u001b[0m \u001b[0mresult\u001b[0m\u001b[1;33m)\u001b[0m\u001b[1;33m\u001b[0m\u001b[0m\n\u001b[0;32m   1716\u001b[0m \u001b[1;33m\u001b[0m\u001b[0m\n",
      "\u001b[1;31mKeyboardInterrupt\u001b[0m: "
     ]
    }
   ],
   "source": [
    "#!/share/apps/anaconda3/4.3.1/bin/python\n",
    "\n",
    "### Reference: https://github.com/gaussic/weibo_wordcloud\n",
    "\n",
    "import re\n",
    "import json\n",
    "import requests\n",
    "import io\n",
    "\n",
    "# based on mobile weibo\n",
    "url_template = \"https://m.weibo.cn/api/container/getIndex?type=wb&queryVal={}&containerid=100103type=2%26q%3D{}&page={}\"\n",
    "\n",
    "\n",
    "def clean_text(text):\n",
    "    \"\"\"cleaning\"\"\"\n",
    "    dr = re.compile(r'(<)[^>]+>', re.S)\n",
    "    dd = dr.sub('', text)\n",
    "    dr = re.compile(r'#[^#]+#', re.S)\n",
    "    dd = dr.sub('', dd)\n",
    "    dr = re.compile(r'@[^ ]+ ', re.S)\n",
    "    dd = dr.sub('', dd)\n",
    "    return dd.strip()\n",
    "\n",
    "\n",
    "def fetch_data(query_val, page_id):\n",
    "    \"\"\"crawl weibos based on specific keyword and page id\"\"\"\n",
    "    resp = requests.get(url_template.format(query_val, query_val, page_id))\n",
    "    card_group = json.loads(resp.text)['data']['cards'][0]['card_group']\n",
    "\n",
    "    mblogs = []  # save them into dict\n",
    "    for card in card_group:\n",
    "        mblog = card['mblog']\n",
    "        blog = {'mid': mblog['id'],  # weibo id\n",
    "                'time': mblog['created_at'], # creation time\n",
    "                'text': clean_text(mblog['text']),  # text\n",
    "                'userid': str(mblog['user']['id']),  # user id\n",
    "                'username': mblog['user']['screen_name'],  # username\n",
    "                'reposts_count': mblog['reposts_count'],  # retweet\n",
    "                'comments_count': mblog['comments_count'],  # comment\n",
    "                'attitudes_count': mblog['attitudes_count']  # like\n",
    "                }\n",
    "        mblogs.append(blog)\n",
    "    return mblogs\n",
    "\n",
    "\n",
    "def fetch_pages(query_val, page_num):\n",
    "    \"\"\"crawl weibos on several pages\"\"\"\n",
    "    \n",
    "    for page_id in range(1 + page_num + 1):\n",
    "        try:\n",
    "            output = fetch_data(query_val, page_id)\n",
    "            for j in output:\n",
    "                print(str(j))\n",
    "                \n",
    "        except Exception as e:\n",
    "            print(e)\n",
    "            \n",
    "fetch_pages('贵州茅台',30)"
   ]
  }
 ],
 "metadata": {
  "kernelspec": {
   "display_name": "Python 3",
   "language": "python",
   "name": "python3"
  },
  "language_info": {
   "codemirror_mode": {
    "name": "ipython",
    "version": 3
   },
   "file_extension": ".py",
   "mimetype": "text/x-python",
   "name": "python",
   "nbconvert_exporter": "python",
   "pygments_lexer": "ipython3",
   "version": "3.6.4"
  }
 },
 "nbformat": 4,
 "nbformat_minor": 2
}
