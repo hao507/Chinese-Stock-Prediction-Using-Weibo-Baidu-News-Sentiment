{
 "cells": [
  {
   "cell_type": "code",
   "execution_count": 6,
   "metadata": {},
   "outputs": [],
   "source": [
    "from weibo import APIClient\n",
    "import webbrowser\n",
    "import requests"
   ]
  },
  {
   "cell_type": "code",
   "execution_count": 25,
   "metadata": {},
   "outputs": [],
   "source": [
    "APP_KEY = '3244053574' \n",
    "APP_SECRET = 'e697f21da9533471e936eb5710653705' \n",
    "CALLBACK_URL = 'http://api.weibo.com/oauth2/default.html' "
   ]
  },
  {
   "cell_type": "code",
   "execution_count": 26,
   "metadata": {},
   "outputs": [
    {
     "name": "stdout",
     "output_type": "stream",
     "text": [
      "https://api.weibo.com/oauth2/authorize?redirect_uri=http%3A//api.weibo.com/oauth2/default.html&response_type=code&client_id=3244053574\n",
      "输入url中code后面的内容后按回车键：\n",
      "20\n",
      "昵称：赤峰龙腾\n",
      "位置：内蒙古\n",
      "微博：火遍全球的台阶鬼步舞[good][good] http://t.cn/RdR4xrr ​\n",
      "昵称：你亲爱的犬宝\n",
      "位置：其他\n",
      "微博：#吉岡里帆# 期待、[二哈] ​​​​\n",
      "昵称：白菜挖\n",
      "位置：上海 黄浦区\n",
      "微博：喜多多 牛奶花生370g*6罐，券后￥20.8，他家椰果王发的比较多，反馈挺好的。这个也可以试试~~ ​\n",
      "昵称：挖图志\n",
      "位置：福建 漳州\n",
      "微博：想知道你们以前是读什么专业的？使诈这么厉害 ​\n",
      "昵称：环球时报\n",
      "位置：北京\n",
      "微博：【结婚也得皮！新娘扮恐龙给新郎惊喜，新郎开门瞬间吓懵[二哈]】9日，河南平顶山，一位新娘觉得新郎太闷了，就想给新郎一个惊喜，于是扮成一只2米长的恐龙。开门后，新郎伴郎瞬间吓懵。脱下恐龙套后，新娘满身汗直流，还笑称“估计他觉得我精神不正常了。”@梨视频  http://t.cn/RdlgSiv ​\n",
      "昵称：搞笑视频大推荐\n",
      "位置：北京\n",
      "微博：这操作……可以可以！技术流自带BGM..[doge][跪了] \n",
      "#搞笑视频秀[超话]#  #低调炫技# http://t.cn/RdQIG6S ​\n",
      "昵称：最奇趣的视频\n",
      "位置：海外\n",
      "微博：世界上最可怕的声音[衰][衰]#奇趣视频# #谜之微笑# #微博搞笑排行榜# http://t.cn/RdRUrZe ​\n",
      "昵称：天天睡不醒\n",
      "位置：其他\n",
      "微博：你永远不知道你队友用什么在玩游戏 ​\n",
      "昵称：一朵村花\n",
      "位置：福建 福州\n",
      "微博：知乎上有哪些令人笑到肚子痛的搞笑段子，笑趴了 ​\n",
      "昵称：最奇趣的视频\n",
      "位置：海外\n",
      "微博：嘟嘟嘟嘟嘟，黑人小哥实力演绎，种族天赋太突出了[允悲]#奇趣视频# #谜之微笑# #微博搞笑排行榜# http://t.cn/RdRUiYN ​\n",
      "昵称：大亨\n",
      "位置：海外\n",
      "微博：恭喜@Moan沫安 1名用户获得【iPhone8plus】。微博官方唯一抽奖工具@微博抽奖平台 -http://t.cn/RCvKdjk对本次抽奖进行监督，结果公正有效。公证链接：http://t.cn/RdRUG40\n",
      "昵称：·KJ·\n",
      "位置：浙江 杭州\n",
      "微博：那种背景稍微加些平铺波点是什么app做的啊qwq ​\n",
      "昵称：老总\n",
      "位置：北京 朝阳区\n",
      "微博：睡醒开抽你的iphoneX，转走明早体验一把中奖的感觉[加油][加油]\n",
      "昵称：小奶球\n",
      "位置：北京 东城区\n",
      "微博：他妈的，这么一说又想好好活下去了//@女情兽:ok//@颜文字君:´_>`有点道理//@夏目家的小诗哥:很有道理 我要养生活的久一点//@俄罗斯田园猫: ???//@梨园西池水: 有道理//@天涯有芳草_59164:[嘻嘻]//@甜片:？？？？//@·0924·：？？？？？？ 好像有点道理\n",
      "昵称：小猫心蓝的微博\n",
      "位置：北京 东城区\n",
      "微博：图片里的都是后来的大腕\n",
      "昵称：笑话专案组\n",
      "位置：北京 东城区\n",
      "微博：电梯里面极品恶搞，整得人一愣一愣的！ #拯救不开心# http://t.cn/RdRyMmq ​\n",
      "昵称：1040专员\n",
      "位置：湖南 长沙\n",
      "微博：这驾照成本也太高了吧？[允悲] http://t.cn/RdRytCE ​\n",
      "昵称：金少Frankie\n",
      "位置：海外 美国\n",
      "微博：18,000的奖品全给一人！最热的单品转这条统统拿走！\n",
      "昵称：八组兔区爆料\n",
      "位置：北京\n",
      "微博：组鹅盘点流量花生的超话版面，看看设计哪家强[酷]\n",
      "王俊凯、王源、易烊千玺、陈伟霆、杨洋、吴亦凡、鹿晗、张艺兴、黄子韬、刘昊然、吴磊、黄景瑜、白敬亭、林更新、王凯、胡歌、倪妮、ab、刘亦菲、娜扎、刘诗诗、唐嫣、杨幂、赵丽颖、迪丽热巴 ​\n",
      "昵称：营养怪兽\n",
      "位置：北京 朝阳区\n",
      "微博：看看最爱Converse的Wiz Khalifa到底都买了5双什么鞋！！！ http://t.cn/RdQrVDS ​\n"
     ]
    }
   ],
   "source": [
    "#在网站放置“使用微博账号登录”的链接，当用户点击链接后，引导用户跳转至如下地址：\n",
    "#利用官方微博SDK\n",
    "client = APIClient(app_key=APP_KEY, app_secret=APP_SECRET, redirect_uri=CALLBACK_URL)\n",
    "#得到授权页面的url，利用webbrowser打开这个url\n",
    "url = client.get_authorize_url()\n",
    "print url\n",
    "webbrowser.open_new(url)\n",
    "\n",
    "#获取code=后面的内容\n",
    "print '输入url中code后面的内容后按回车键：'\n",
    "code = raw_input()\n",
    "#code = your.web.framework.request.get('code')\n",
    "#client = APIClient(app_key=APP_KEY, app_secret=APP_SECRET, redirect_uri=CALLBACK_URL)\n",
    "r = client.request_access_token(code)\n",
    "access_token = r.access_token # 新浪返回的token，类似abc123xyz456\n",
    "expires_in = r.expires_in\n",
    "\n",
    "# 设置得到的access_token\n",
    "client.set_access_token(access_token, expires_in)\n",
    "\n",
    "#可以打印下看看里面都有什么东西\n",
    "statuses = client.statuses__friends_timeline()['statuses'] #获取当前登录用户以及所关注用户（已授权）的微博</span>\n",
    "\n",
    "\n",
    "\n",
    "length = len(statuses)\n",
    "print length\n",
    "#输出了部分信息\n",
    "for i in range(0,length):\n",
    "    print u'昵称：'+statuses[i]['user']['screen_name']\n",
    "    print u'位置：'+statuses[i]['user']['location']\n",
    "    print u'微博：'+statuses[i]['text']"
   ]
  }
 ],
 "metadata": {
  "kernelspec": {
   "display_name": "Python 2",
   "language": "python",
   "name": "python2"
  },
  "language_info": {
   "codemirror_mode": {
    "name": "ipython",
    "version": 2
   },
   "file_extension": ".py",
   "mimetype": "text/x-python",
   "name": "python",
   "nbconvert_exporter": "python",
   "pygments_lexer": "ipython2",
   "version": "2.7.15"
  }
 },
 "nbformat": 4,
 "nbformat_minor": 2
}
